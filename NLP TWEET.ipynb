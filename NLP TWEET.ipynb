{
 "cells": [
  {
   "cell_type": "code",
   "execution_count": null,
   "id": "42cfb401-8c59-4b56-b27c-3d8031692077",
   "metadata": {},
   "outputs": [],
   "source": [
    "pip install tweepy"
   ]
  },
  {
   "cell_type": "code",
   "execution_count": 11,
   "id": "2eccf962-61bd-47e6-a2c2-ee6c69723f52",
   "metadata": {},
   "outputs": [
    {
     "ename": "SyntaxError",
     "evalue": "invalid decimal literal (1590316040.py, line 1)",
     "output_type": "error",
     "traceback": [
      "\u001b[1;36m  Cell \u001b[1;32mIn[11], line 1\u001b[1;36m\u001b[0m\n\u001b[1;33m    AAAAAAAAAAAAAAAAAAAAAJzENgEAAAAAlAtaPL5WyaKXuGK8dojUsieWx2w%3DZY19QdOUwVtXEMfXPpUvFCwt6eVQD0obwIxC2RpWjAY8G8Tw81\u001b[0m\n\u001b[1;37m                                                                ^\u001b[0m\n\u001b[1;31mSyntaxError\u001b[0m\u001b[1;31m:\u001b[0m invalid decimal literal\n"
     ]
    }
   ],
   "source": [
    "AK\n",
    "WL3T2IWmDNx0lFrXKe6dFinrq\n",
    "\n",
    "AKS\n",
    "p4Dx7S7koPlaSKrqrG6VYBPZwHKyZOwdXhGaLqgfcT7vrhUeRb\n",
    "\n",
    "\n",
    "BT\n",
    "AAAAAAAAAAAAAAAAAAAAAJzENgEAAAAAlAtaPL5WyaKXuGK8dojUsieWx2w%3DZY19QdOUwVtXEMfXPpUvFCwt6eVQD0obwIxC2RpWjAY8G8Tw81\n",
    "\n",
    "AT\n",
    "345356992-13QwbFviTRccZ8yAZGqQWAolxC8ubKn6QBmgZqRC\n",
    "\n",
    "ATS \n",
    "Lr6fKMXvDt0TpnzFEdqQBRptODIuRfV3zacGcHCDZPD1E"
   ]
  },
  {
   "cell_type": "code",
   "execution_count": 12,
   "id": "13a98da3-113c-41c9-872d-a882bd556d8f",
   "metadata": {},
   "outputs": [],
   "source": [
    "import tweepy\n",
    "import json\n",
    "import codecs\n",
    "import os\n",
    "import sys\n",
    "\n",
    "REQUEST_TOKEN_URL = \"https://api.twitter.com/oauth/request_token\"\n",
    "AUTHORIZE_URL = \"https://api.twitter.com/oauth/authorize?oauth_token=\"\n",
    "ACCESS_TOKEN_URL = \"https://api.twitter.com/oauth/access_token\"\n"
   ]
  },
  {
   "cell_type": "code",
   "execution_count": 13,
   "id": "c2b072f2-7e04-4ee3-9c59-b4640b401167",
   "metadata": {},
   "outputs": [],
   "source": [
    "\n",
    "# Go to http://dev.twitter.com and create an app.\n",
    "# The consumer key and secret will be generated for you after\n",
    "consumer_key=\"WL3T2IWmDNx0lFrXKe6dFinrq\"\n",
    "consumer_secret=\"p4Dx7S7koPlaSKrqrG6VYBPZwHKyZOwdXhGaLqgfcT7vrhUeRb\"\n",
    "\n",
    "# After the step above, you will be redirected to your app's page.\n",
    "# Create an access token under the the \"Your access token\" section\n",
    "access_token=\"345356992-13QwbFviTRccZ8yAZGqQWAolxC8ubKn6QBmgZqRC\"\n",
    "access_token_secret=\"Lr6fKMXvDt0TpnzFEdqQBRptODIuRfV3zacGcHCDZPD1E\"\n"
   ]
  },
  {
   "cell_type": "code",
   "execution_count": 22,
   "id": "afc6472d-8c1c-4177-b1c9-c31803fb953c",
   "metadata": {},
   "outputs": [
    {
     "ename": "AttributeError",
     "evalue": "module 'tweepy.streaming' has no attribute 'StreamListener'",
     "output_type": "error",
     "traceback": [
      "\u001b[1;31m---------------------------------------------------------------------------\u001b[0m",
      "\u001b[1;31mAttributeError\u001b[0m                            Traceback (most recent call last)",
      "Cell \u001b[1;32mIn[22], line 17\u001b[0m\n\u001b[0;32m     13\u001b[0m tweepy\u001b[38;5;241m.\u001b[39mmodels\u001b[38;5;241m.\u001b[39mStatus\u001b[38;5;241m.\u001b[39mparse \u001b[38;5;241m=\u001b[39m parse\n\u001b[0;32m     15\u001b[0m _dir \u001b[38;5;241m=\u001b[39m os\u001b[38;5;241m.\u001b[39mpath\u001b[38;5;241m.\u001b[39mjoin(os\u001b[38;5;241m.\u001b[39mgetcwd(), \u001b[38;5;124m'\u001b[39m\u001b[38;5;124mdata\u001b[39m\u001b[38;5;124m'\u001b[39m)  \u001b[38;5;66;03m# Replace 'data' with your desired directory name\u001b[39;00m\n\u001b[1;32m---> 17\u001b[0m \u001b[38;5;28;01mclass\u001b[39;00m \u001b[38;5;21;01mStdOutListener\u001b[39;00m(\u001b[43mtweepy\u001b[49m\u001b[38;5;241;43m.\u001b[39;49m\u001b[43mstreaming\u001b[49m\u001b[38;5;241;43m.\u001b[39;49m\u001b[43mStreamListener\u001b[49m):\n\u001b[0;32m     18\u001b[0m     \u001b[38;5;124;03m\"\"\" A listener handles tweets are the received from the stream.\u001b[39;00m\n\u001b[0;32m     19\u001b[0m \u001b[38;5;124;03m    This is a basic listener that just prints received tweets to stdout.\u001b[39;00m\n\u001b[0;32m     20\u001b[0m \u001b[38;5;124;03m    \"\"\"\u001b[39;00m\n\u001b[0;32m     21\u001b[0m     \u001b[38;5;28;01mdef\u001b[39;00m \u001b[38;5;21mon_data\u001b[39m(\u001b[38;5;28mself\u001b[39m, data):\n",
      "\u001b[1;31mAttributeError\u001b[0m: module 'tweepy.streaming' has no attribute 'StreamListener'"
     ]
    }
   ],
   "source": [
    "import os\n",
    "import codecs\n",
    "import tweepy\n",
    "import json\n",
    "\n",
    "@classmethod\n",
    "def parse(cls, api, raw):\n",
    "    status = cls.first_parse(api, raw)\n",
    "    setattr(status, 'json', json.dumps(raw))\n",
    "    return status\n",
    "\n",
    "tweepy.models.Status.first_parse = tweepy.models.Status.parse\n",
    "tweepy.models.Status.parse = parse\n",
    "\n",
    "_dir = os.path.join(os.getcwd(), 'data')  # Replace 'data' with your desired directory name\n",
    "\n",
    "class StdOutListener(tweepy.streaming.StreamListener):\n",
    "    \"\"\" A listener handles tweets are the received from the stream.\n",
    "    This is a basic listener that just prints received tweets to stdout.\n",
    "    \"\"\"\n",
    "    def on_data(self, data):\n",
    "        print(data)\n",
    "        return True\n",
    "\n",
    "    def on_error(self, status):\n",
    "        print(status)\n",
    "\n",
    "class CustomStreamListener(tweepy.StreamListener):\n",
    "    def on_status(self, status):\n",
    "        # if status.lang == \"tr\":\n",
    "        print(status.user.screen_name)\n",
    "        with codecs.open(os.path.join(_dir, 'tweets.json'), \"a\", 'utf-8') as textFile:\n",
    "            print(status.text)\n",
    "            textFile.write(status.json)\n",
    "            textFile.write('\\n')\n",
    "\n",
    "    def on_error(self, status_code):\n",
    "        print('Encountered error with status code:', status_code)\n",
    "        return True  # Don't kill the stream\n",
    "\n",
    "    def on_timeout(self):\n",
    "        print('Timeout...')\n",
    "        return True  # Don't kill the stream\n",
    "\n",
    "class TextOutListener(tweepy.StreamListener):\n",
    "    def on_data(self, data):\n",
    "        json_data = json.dumps(data)\n",
    "        # print json_data['statuses']\n",
    "        return True\n",
    "\n",
    "    def on_error(self, status):\n",
    "        print(status)\n",
    "\n",
    "\n",
    "if __name__ == '__main__':\n",
    "    print(\"extracting\")\n",
    "    l = CustomStreamListener()\n",
    "    auth = tweepy.OAuthHandler(consumer_key, consumer_secret)\n",
    "    auth.set_access_token(access_token, access_token_secret)\n",
    "\n",
    "    stream = tweepy.Stream(auth, l)\n",
    "    stream.filter(track=[u'#KazaDegilCinayet'])\n"
   ]
  },
  {
   "cell_type": "code",
   "execution_count": 23,
   "id": "2980540f-ee03-4190-9fd8-c6915b1741ff",
   "metadata": {},
   "outputs": [
    {
     "ename": "ImportError",
     "evalue": "cannot import name 'StreamListener' from 'tweepy.streaming' (C:\\Users\\dwiah\\anaconda3new\\lib\\site-packages\\tweepy\\streaming.py)",
     "output_type": "error",
     "traceback": [
      "\u001b[1;31m---------------------------------------------------------------------------\u001b[0m",
      "\u001b[1;31mImportError\u001b[0m                               Traceback (most recent call last)",
      "Cell \u001b[1;32mIn[23], line 1\u001b[0m\n\u001b[1;32m----> 1\u001b[0m \u001b[38;5;28;01mfrom\u001b[39;00m \u001b[38;5;21;01mtweepy\u001b[39;00m\u001b[38;5;21;01m.\u001b[39;00m\u001b[38;5;21;01mstreaming\u001b[39;00m \u001b[38;5;28;01mimport\u001b[39;00m StreamListener\n\u001b[0;32m      2\u001b[0m \u001b[38;5;28;01mfrom\u001b[39;00m \u001b[38;5;21;01mtweepy\u001b[39;00m \u001b[38;5;28;01mimport\u001b[39;00m OAuthHandler\n\u001b[0;32m      3\u001b[0m \u001b[38;5;28;01mfrom\u001b[39;00m \u001b[38;5;21;01mtweepy\u001b[39;00m \u001b[38;5;28;01mimport\u001b[39;00m Stream\n",
      "\u001b[1;31mImportError\u001b[0m: cannot import name 'StreamListener' from 'tweepy.streaming' (C:\\Users\\dwiah\\anaconda3new\\lib\\site-packages\\tweepy\\streaming.py)"
     ]
    }
   ],
   "source": [
    "from tweepy.streaming import StreamListener\n",
    "from tweepy import OAuthHandler\n",
    "from tweepy import Stream"
   ]
  },
  {
   "cell_type": "code",
   "execution_count": null,
   "id": "bbf8fea4-c709-47bc-807a-1c6fad0a6c12",
   "metadata": {},
   "outputs": [],
   "source": []
  }
 ],
 "metadata": {
  "kernelspec": {
   "display_name": "Python 3 (ipykernel)",
   "language": "python",
   "name": "python3"
  },
  "language_info": {
   "codemirror_mode": {
    "name": "ipython",
    "version": 3
   },
   "file_extension": ".py",
   "mimetype": "text/x-python",
   "name": "python",
   "nbconvert_exporter": "python",
   "pygments_lexer": "ipython3",
   "version": "3.10.9"
  }
 },
 "nbformat": 4,
 "nbformat_minor": 5
}
