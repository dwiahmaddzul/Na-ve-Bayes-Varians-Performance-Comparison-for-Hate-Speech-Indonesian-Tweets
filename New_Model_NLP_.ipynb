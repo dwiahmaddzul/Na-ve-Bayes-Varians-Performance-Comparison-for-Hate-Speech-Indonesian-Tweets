{
 "cells": [
  {
   "cell_type": "code",
   "execution_count": 1,
   "metadata": {
    "colab": {
     "base_uri": "https://localhost:8080/"
    },
    "id": "HwYLM1UUlo2r",
    "outputId": "77cbbd71-e96e-41bd-bed5-9501bd68a589"
   },
   "outputs": [],
   "source": [
    "#from google.colab import drive\n",
    "#drive.mount('/content/drive')"
   ]
  },
  {
   "cell_type": "markdown",
   "metadata": {
    "id": "nC6JkUsUOVCH"
   },
   "source": [
    "# Document Weighting"
   ]
  },
  {
   "cell_type": "markdown",
   "metadata": {
    "id": "1jgs_sFXZvai"
   },
   "source": [
    "## TF-IDF"
   ]
  },
  {
   "cell_type": "code",
   "execution_count": 1,
   "metadata": {
    "id": "TQz3FRXKZuDG"
   },
   "outputs": [],
   "source": [
    "import pandas as pd\n",
    "import numpy as np\n",
    "from sklearn.feature_extraction.text import CountVectorizer\n",
    "from sklearn.feature_extraction.text import TfidfVectorizer"
   ]
  },
  {
   "cell_type": "code",
   "execution_count": 4,
   "metadata": {
    "id": "Yw9yRPN0Z0e1"
   },
   "outputs": [],
   "source": [
    "#df = pd.read_csv('dataku.csv')\n",
    "df = pd.read_csv('dataku.csv')"
   ]
  },
  {
   "cell_type": "code",
   "execution_count": 5,
   "metadata": {
    "id": "00Xj8H3HbNRC"
   },
   "outputs": [],
   "source": [
    "df = df.dropna()"
   ]
  },
  {
   "cell_type": "code",
   "execution_count": 6,
   "metadata": {
    "id": "GkTWGh6Wagdi"
   },
   "outputs": [],
   "source": [
    "text = df['Tweet'].values.tolist()\n",
    "label = df['HS'].values"
   ]
  },
  {
   "cell_type": "code",
   "execution_count": 7,
   "metadata": {
    "colab": {
     "base_uri": "https://localhost:8080/",
     "height": 363
    },
    "id": "aX-VJka3Z4YP",
    "outputId": "158c284a-f748-4bc4-d55c-7e7f4a4867b7"
   },
   "outputs": [
    {
     "data": {
      "text/html": [
       "<div>\n",
       "<style scoped>\n",
       "    .dataframe tbody tr th:only-of-type {\n",
       "        vertical-align: middle;\n",
       "    }\n",
       "\n",
       "    .dataframe tbody tr th {\n",
       "        vertical-align: top;\n",
       "    }\n",
       "\n",
       "    .dataframe thead th {\n",
       "        text-align: right;\n",
       "    }\n",
       "</style>\n",
       "<table border=\"1\" class=\"dataframe\">\n",
       "  <thead>\n",
       "    <tr style=\"text-align: right;\">\n",
       "      <th></th>\n",
       "      <th>TF-IDF</th>\n",
       "    </tr>\n",
       "  </thead>\n",
       "  <tbody>\n",
       "    <tr>\n",
       "      <th>perhati</th>\n",
       "      <td>0.478823</td>\n",
       "    </tr>\n",
       "    <tr>\n",
       "      <th>cowok</th>\n",
       "      <td>0.448759</td>\n",
       "    </tr>\n",
       "    <tr>\n",
       "      <th>basic</th>\n",
       "      <td>0.335414</td>\n",
       "    </tr>\n",
       "    <tr>\n",
       "      <th>lacak</th>\n",
       "      <td>0.317153</td>\n",
       "    </tr>\n",
       "    <tr>\n",
       "      <th>remeh</th>\n",
       "      <td>0.300352</td>\n",
       "    </tr>\n",
       "    <tr>\n",
       "      <th>lantas</th>\n",
       "      <td>0.288968</td>\n",
       "    </tr>\n",
       "    <tr>\n",
       "      <th>beru</th>\n",
       "      <td>0.250795</td>\n",
       "    </tr>\n",
       "    <tr>\n",
       "      <th>bego</th>\n",
       "      <td>0.203845</td>\n",
       "    </tr>\n",
       "    <tr>\n",
       "      <th>khusus</th>\n",
       "      <td>0.195096</td>\n",
       "    </tr>\n",
       "    <tr>\n",
       "      <th>at</th>\n",
       "      <td>0.148543</td>\n",
       "    </tr>\n",
       "  </tbody>\n",
       "</table>\n",
       "</div>"
      ],
      "text/plain": [
       "           TF-IDF\n",
       "perhati  0.478823\n",
       "cowok    0.448759\n",
       "basic    0.335414\n",
       "lacak    0.317153\n",
       "remeh    0.300352\n",
       "lantas   0.288968\n",
       "beru     0.250795\n",
       "bego     0.203845\n",
       "khusus   0.195096\n",
       "at       0.148543"
      ]
     },
     "execution_count": 7,
     "metadata": {},
     "output_type": "execute_result"
    }
   ],
   "source": [
    "import pandas as pd\n",
    "from sklearn.feature_extraction.text import TfidfVectorizer\n",
    "\n",
    "tfidf_vectorizer = TfidfVectorizer()\n",
    "tfidf_text = tfidf_vectorizer.fit_transform(text)\n",
    "\n",
    "feature_names = tfidf_vectorizer.get_feature_names_out()\n",
    "tfidf_scores = tfidf_text[0].toarray()[0]\n",
    "\n",
    "result = pd.DataFrame({'TF-IDF': tfidf_scores}, index=feature_names)\n",
    "result = result.sort_values('TF-IDF', ascending=False)\n",
    "result.head(10)\n"
   ]
  },
  {
   "cell_type": "code",
   "execution_count": 8,
   "metadata": {
    "colab": {
     "base_uri": "https://localhost:8080/"
    },
    "id": "Nkv_6h4pae6e",
    "outputId": "75f26751-803a-4718-f14d-da2d08747806"
   },
   "outputs": [
    {
     "name": "stdout",
     "output_type": "stream",
     "text": [
      "Total TF-IDF score across all documents: 38138.07958115842\n"
     ]
    }
   ],
   "source": [
    "from sklearn.feature_extraction.text import TfidfVectorizer\n",
    "\n",
    "# create a TfidfVectorizer object\n",
    "tfidf_vectorizer = TfidfVectorizer()\n",
    "\n",
    "# fit and transform the text data\n",
    "tfidf_text = tfidf_vectorizer.fit_transform(text)\n",
    "\n",
    "# calculate the sum of TF-IDF scores across all documents\n",
    "total_tfidf = tfidf_text.sum()\n",
    "\n",
    "print(\"Total TF-IDF score across all documents:\", total_tfidf)"
   ]
  },
  {
   "cell_type": "markdown",
   "metadata": {
    "id": "rEksnZA4nqqf",
    "jp-MarkdownHeadingCollapsed": true,
    "tags": []
   },
   "source": [
    "## Document Term Matrix"
   ]
  },
  {
   "cell_type": "code",
   "execution_count": 8,
   "metadata": {
    "id": "bJ_mxV2scGbb"
   },
   "outputs": [],
   "source": [
    "vectorizer = CountVectorizer()\n",
    "dtm = vectorizer.fit_transform(df['Tweet'])"
   ]
  },
  {
   "cell_type": "code",
   "execution_count": 9,
   "metadata": {
    "id": "NYI8QmajmgdF"
   },
   "outputs": [],
   "source": [
    "dtm_df = pd.DataFrame(dtm.toarray(), columns=vectorizer.get_feature_names_out())"
   ]
  },
  {
   "cell_type": "code",
   "execution_count": 10,
   "metadata": {
    "colab": {
     "base_uri": "https://localhost:8080/"
    },
    "id": "L3vsFJfbmw7d",
    "outputId": "d1f4dcfd-4ee7-4088-af97-84f2928d095b"
   },
   "outputs": [
    {
     "name": "stdout",
     "output_type": "stream",
     "text": [
      "   00  000  00n  00wib  01  02  021  03  031  04  ...  zu  zuhair  zuhud  zul  \\\n",
      "0   0    0    0      0   0   0    0   0    0   0  ...   0       0      0    0   \n",
      "1   0    0    0      0   0   0    0   0    0   0  ...   0       0      0    0   \n",
      "2   0    0    0      0   0   0    0   0    0   0  ...   0       0      0    0   \n",
      "3   0    0    0      0   0   0    0   0    0   0  ...   0       0      0    0   \n",
      "4   0    0    0      0   0   0    0   0    0   0  ...   0       0      0    0   \n",
      "5   0    0    0      0   0   0    0   0    0   0  ...   0       0      0    0   \n",
      "6   0    0    0      0   0   0    0   0    0   0  ...   0       0      0    0   \n",
      "7   0    0    0      0   0   0    0   0    0   0  ...   0       0      0    0   \n",
      "8   0    0    0      0   0   0    0   0    0   0  ...   0       0      0    0   \n",
      "9   0    0    0      0   0   0    0   0    0   0  ...   0       0      0    0   \n",
      "\n",
      "   zulkarnain  zulkifli  zumi  zumiiiii  zzzzzz  zzzzzzzz  \n",
      "0           0         0     0         0       0         0  \n",
      "1           0         0     0         0       0         0  \n",
      "2           0         0     0         0       0         0  \n",
      "3           0         0     0         0       0         0  \n",
      "4           0         0     0         0       0         0  \n",
      "5           0         0     0         0       0         0  \n",
      "6           0         0     0         0       0         0  \n",
      "7           0         0     0         0       0         0  \n",
      "8           0         0     0         0       0         0  \n",
      "9           0         0     0         0       0         0  \n",
      "\n",
      "[10 rows x 14844 columns]\n"
     ]
    }
   ],
   "source": [
    "print(dtm_df.head(10))"
   ]
  },
  {
   "cell_type": "code",
   "execution_count": null,
   "metadata": {
    "id": "VpQl7TBnnVx9"
   },
   "outputs": [],
   "source": [
    "#dtm_df.to_csv('dtm_data.csv')"
   ]
  },
  {
   "cell_type": "code",
   "execution_count": null,
   "metadata": {
    "id": "AuB1-t1Qo_cL"
   },
   "outputs": [],
   "source": [
    "#from google.colab import files\n",
    "#files.download(\"dtm_data.csv\")"
   ]
  },
  {
   "cell_type": "markdown",
   "metadata": {
    "id": "Jv9Fpemqo9uk"
   },
   "source": [
    "### Analisis Frekuensi"
   ]
  },
  {
   "cell_type": "code",
   "execution_count": null,
   "metadata": {
    "id": "zWb9C4wFnMZX"
   },
   "outputs": [],
   "source": [
    "import matplotlib.pyplot as plt"
   ]
  },
  {
   "cell_type": "code",
   "execution_count": null,
   "metadata": {
    "colab": {
     "base_uri": "https://localhost:8080/",
     "height": 617
    },
    "id": "of-Wwy82nKYm",
    "outputId": "ab87533b-ccb9-40d6-dd6b-65f5a3251807"
   },
   "outputs": [
    {
     "data": {
      "image/png": "[encoded data removed]",
      "text/plain": [
       "<Figure size 1000x600 with 1 Axes>"
      ]
     },
     "metadata": {},
     "output_type": "display_data"
    }
   ],
   "source": [
    "# Menghitung frekuensi kemunculan kata\n",
    "freq = dtm_df.sum(axis=0).sort_values(ascending=False)\n",
    "\n",
    "# Membuat visualisasi grafik frekuensi kata\n",
    "plt.figure(figsize=(10,6))\n",
    "plt.bar(freq.index[:20], freq.values[:20])\n",
    "plt.xticks(rotation=90)\n",
    "plt.xlabel('Kata')\n",
    "plt.ylabel('Frekuensi')\n",
    "plt.title('20 Kata Paling Sering Muncul pada Korpus')\n",
    "plt.show()"
   ]
  },
  {
   "cell_type": "markdown",
   "metadata": {
    "id": "oot9pvafoFuT"
   },
   "source": [
    "### Analisis Korelasi Antar Kata"
   ]
  },
  {
   "cell_type": "code",
   "execution_count": null,
   "metadata": {
    "id": "uXjZR746obx7"
   },
   "outputs": [],
   "source": [
    "from scipy.stats import pearsonr"
   ]
  },
  {
   "cell_type": "code",
   "execution_count": null,
   "metadata": {
    "colab": {
     "base_uri": "https://localhost:8080/"
    },
    "id": "j5jdxZL3oE2s",
    "outputId": "fca8bc77-c58c-47ce-a0d0-0aa16b64d857"
   },
   "outputs": [
    {
     "name": "stdout",
     "output_type": "stream",
     "text": [
      "Korelasi antara kata \"indonesia\" dan \"presiden\": 0.07\n"
     ]
    }
   ],
   "source": [
    "# Membuat dataframe dari DTM\n",
    "dtm_df = pd.DataFrame(dtm.toarray(), columns=vectorizer.get_feature_names_out())\n",
    "\n",
    "# Menghitung korelasi antara dua kata\n",
    "word1 = 'indonesia'\n",
    "word2 = 'presiden'\n",
    "corr, _ = pearsonr(dtm_df[word1], dtm_df[word2])\n",
    "print('Korelasi antara kata \"{}\" dan \"{}\": {:.2f}'.format(word1, word2, corr))"
   ]
  },
  {
   "cell_type": "code",
   "execution_count": null,
   "metadata": {
    "colab": {
     "base_uri": "https://localhost:8080/"
    },
    "id": "rruZ8qF_og8t",
    "outputId": "5acbf5c2-ad85-410a-89a1-bb5a3d84076b"
   },
   "outputs": [
    {
     "name": "stdout",
     "output_type": "stream",
     "text": [
      "Korelasi antara kata \"jokowi\" dan \"presiden\": 0.18\n"
     ]
    }
   ],
   "source": [
    "# Menghitung korelasi antara dua kata\n",
    "word1 = 'jokowi'\n",
    "word2 = 'presiden'\n",
    "corr, _ = pearsonr(dtm_df[word1], dtm_df[word2])\n",
    "print('Korelasi antara kata \"{}\" dan \"{}\": {:.2f}'.format(word1, word2, corr))"
   ]
  },
  {
   "cell_type": "markdown",
   "metadata": {
    "id": "NiMaqi8krum6"
   },
   "source": [
    "# Implementasi Model\n"
   ]
  },
  {
   "cell_type": "markdown",
   "metadata": {
    "id": "tQzBbtZYOaBH"
   },
   "source": [
    "## Persiapan Data"
   ]
  },
  {
   "cell_type": "code",
   "execution_count": 9,
   "metadata": {
    "id": "rcV05w5RpcwO"
   },
   "outputs": [],
   "source": [
    "MODEL = []\n",
    "TEST = []\n",
    "\n",
    "def eval(model,test1):\n",
    "    MODEL.append(model)\n",
    "    TEST.append(round(test1,2))"
   ]
  },
  {
   "cell_type": "code",
   "execution_count": 10,
   "metadata": {
    "id": "toPZ3VYyqWe3"
   },
   "outputs": [],
   "source": [
    "from sklearn.metrics import accuracy_score\n",
    "from sklearn.metrics import classification_report"
   ]
  },
  {
   "cell_type": "code",
   "execution_count": 11,
   "metadata": {
    "id": "cNVRlk3Bb6Qb"
   },
   "outputs": [],
   "source": [
    "from sklearn.model_selection import train_test_split\n",
    "X_train, X_test, y_train, y_test = train_test_split(tfidf_text, label, test_size = 0.3, random_state = 123)"
   ]
  },
  {
   "cell_type": "markdown",
   "metadata": {
    "id": "FNn7q99_gXBi",
    "tags": []
   },
   "source": [
    "## Classification Comparation and K-Fold"
   ]
  },
  {
   "cell_type": "markdown",
   "metadata": {},
   "source": [
    "### COBA TERUS!"
   ]
  },
  {
   "cell_type": "code",
   "execution_count": 12,
   "metadata": {},
   "outputs": [
    {
     "name": "stderr",
     "output_type": "stream",
     "text": [
      "C:\\Users\\dwiah\\anaconda3new\\lib\\site-packages\\sklearn\\experimental\\enable_hist_gradient_boosting.py:16: UserWarning: Since version 1.0, it is not needed to import enable_hist_gradient_boosting anymore. HistGradientBoostingClassifier and HistGradientBoostingRegressor are now stable and can be normally imported from sklearn.ensemble.\n",
      "  warnings.warn(\n"
     ]
    }
   ],
   "source": [
    "from sklearn.svm import LinearSVC, SVC, NuSVC\n",
    "from sklearn.linear_model import SGDClassifier, Perceptron, LogisticRegression, LogisticRegressionCV, PassiveAggressiveClassifier, RidgeClassifierCV, RidgeClassifier, SGDClassifier\n",
    "from sklearn.neural_network import MLPClassifier\n",
    "from sklearn.ensemble import RandomForestClassifier, GradientBoostingClassifier, AdaBoostClassifier, ExtraTreesClassifier, BaggingClassifier\n",
    "from sklearn.neighbors import KNeighborsClassifier, NearestCentroid\n",
    "from sklearn.naive_bayes import BernoulliNB, GaussianNB, MultinomialNB\n",
    "from sklearn.discriminant_analysis import QuadraticDiscriminantAnalysis, LinearDiscriminantAnalysis\n",
    "from sklearn.semi_supervised import LabelPropagation, LabelSpreading\n",
    "from sklearn.calibration import CalibratedClassifierCV\n",
    "from sklearn.tree import DecisionTreeClassifier, ExtraTreeClassifier\n",
    "from sklearn.dummy import DummyClassifier\n",
    "from sklearn.experimental import enable_hist_gradient_boosting\n",
    "from sklearn.ensemble import HistGradientBoostingClassifier\n",
    "from sklearn.metrics import accuracy_score, classification_report"
   ]
  },
  {
   "cell_type": "markdown",
   "metadata": {},
   "source": [
    "#### MODELS"
   ]
  },
  {
   "cell_type": "code",
   "execution_count": 13,
   "metadata": {},
   "outputs": [
    {
     "name": "stdout",
     "output_type": "stream",
     "text": [
      "Multinomial NaiveBayes: 0.8152477763659466\n",
      "Multinomial NaiveBayes :\n",
      "              precision    recall  f1-score   support\n",
      "\n",
      "           0       0.89      0.81      0.85      2483\n",
      "           1       0.72      0.82      0.77      1452\n",
      "\n",
      "    accuracy                           0.82      3935\n",
      "   macro avg       0.80      0.82      0.81      3935\n",
      "weighted avg       0.82      0.82      0.82      3935\n",
      "\n"
     ]
    }
   ],
   "source": [
    "modelmultinomialnb = MultinomialNB().fit(X_train, y_train)\n",
    "\n",
    "pred_modelmultinomialnb = modelmultinomialnb.predict(X_test)\n",
    "acc_modelmultinomialnb = accuracy_score(pred_modelmultinomialnb, y_test)\n",
    "print(\"Multinomial NaiveBayes:\", acc_modelmultinomialnb)\n",
    "eval(\"Multinomial NaiveBayes\", acc_modelmultinomialnb)\n",
    "\n",
    "# Multinomial Naive Bayes\n",
    "print(\"Multinomial NaiveBayes :\")\n",
    "print(classification_report(pred_modelmultinomialnb, y_test))"
   ]
  },
  {
   "cell_type": "code",
   "execution_count": 15,
   "metadata": {},
   "outputs": [
    {
     "name": "stdout",
     "output_type": "stream",
     "text": [
      "Gaussian Naive Bayes: 0.6355781448538754\n",
      "Gaussian NaiveBayes :\n",
      "              precision    recall  f1-score   support\n",
      "\n",
      "           0       0.53      0.76      0.63      1584\n",
      "           1       0.78      0.55      0.64      2351\n",
      "\n",
      "    accuracy                           0.64      3935\n",
      "   macro avg       0.65      0.66      0.64      3935\n",
      "weighted avg       0.68      0.64      0.64      3935\n",
      "\n"
     ]
    }
   ],
   "source": [
    "from sklearn.naive_bayes import GaussianNB\n",
    "from sklearn.metrics import accuracy_score\n",
    "\n",
    "model_gaussian_nb = GaussianNB().fit(X_train.toarray(), y_train)\n",
    "\n",
    "pred_gaussian_nb = model_gaussian_nb.predict(X_test.toarray())\n",
    "acc_gaussian_nb = accuracy_score(pred_gaussian_nb, y_test)\n",
    "print(\"Gaussian Naive Bayes:\", acc_gaussian_nb)\n",
    "eval(\"Gaussian Naive Bayes\", acc_gaussian_nb)\n",
    "\n",
    "\n",
    "# Multinomial Naive Bayes\n",
    "print(\"Gaussian NaiveBayes :\")\n",
    "print(classification_report(pred_gaussian_nb, y_test))"
   ]
  },
  {
   "cell_type": "code",
   "execution_count": 18,
   "metadata": {},
   "outputs": [
    {
     "name": "stdout",
     "output_type": "stream",
     "text": [
      "Complement Naive Bayes: 0.804574332909784\n",
      "Complement NaiveBayes :\n",
      "              precision    recall  f1-score   support\n",
      "\n",
      "           0       0.79      0.86      0.82      2077\n",
      "           1       0.83      0.74      0.78      1858\n",
      "\n",
      "    accuracy                           0.80      3935\n",
      "   macro avg       0.81      0.80      0.80      3935\n",
      "weighted avg       0.81      0.80      0.80      3935\n",
      "\n"
     ]
    }
   ],
   "source": [
    "from sklearn.naive_bayes import ComplementNB\n",
    "from sklearn.metrics import accuracy_score\n",
    "\n",
    "model_complement_nb = ComplementNB().fit(X_train, y_train)\n",
    "\n",
    "pred_complement_nb = model_complement_nb.predict(X_test)\n",
    "acc_complement_nb = accuracy_score(pred_complement_nb, y_test)\n",
    "print(\"Complement Naive Bayes:\", acc_complement_nb)\n",
    "eval(\"Complement Naive Bayes\", acc_complement_nb)\n",
    "\n",
    "\n",
    "# Complement Naive Bayes\n",
    "print(\"Complement NaiveBayes :\")\n",
    "print(classification_report(pred_complement_nb, y_test))"
   ]
  },
  {
   "cell_type": "code",
   "execution_count": 19,
   "metadata": {},
   "outputs": [
    {
     "name": "stdout",
     "output_type": "stream",
     "text": [
      "Bernoulli Naive Bayes: 0.7944091486658196\n",
      "Bernoulli NaiveBayes :\n",
      "              precision    recall  f1-score   support\n",
      "\n",
      "           0       0.75      0.87      0.81      1947\n",
      "           1       0.85      0.72      0.78      1988\n",
      "\n",
      "    accuracy                           0.79      3935\n",
      "   macro avg       0.80      0.80      0.79      3935\n",
      "weighted avg       0.80      0.79      0.79      3935\n",
      "\n"
     ]
    }
   ],
   "source": [
    "from sklearn.naive_bayes import BernoulliNB\n",
    "from sklearn.metrics import accuracy_score\n",
    "\n",
    "model_bernoulli_nb = BernoulliNB().fit(X_train, y_train)\n",
    "\n",
    "pred_bernoulli_nb = model_bernoulli_nb.predict(X_test)\n",
    "acc_bernoulli_nb = accuracy_score(pred_bernoulli_nb, y_test)\n",
    "print(\"Bernoulli Naive Bayes:\", acc_bernoulli_nb)\n",
    "eval(\"Bernoulli Naive Bayes\", acc_bernoulli_nb)\n",
    "\n",
    "\n",
    "# Bernoulli Naive Bayes\n",
    "print(\"Bernoulli NaiveBayes :\")\n",
    "print(classification_report(pred_bernoulli_nb, y_test))"
   ]
  },
  {
   "cell_type": "code",
   "execution_count": 24,
   "metadata": {},
   "outputs": [
    {
     "data": {
      "text/html": [
       "<div>\n",
       "<style scoped>\n",
       "    .dataframe tbody tr th:only-of-type {\n",
       "        vertical-align: middle;\n",
       "    }\n",
       "\n",
       "    .dataframe tbody tr th {\n",
       "        vertical-align: top;\n",
       "    }\n",
       "\n",
       "    .dataframe thead th {\n",
       "        text-align: right;\n",
       "    }\n",
       "</style>\n",
       "<table border=\"1\" class=\"dataframe\">\n",
       "  <thead>\n",
       "    <tr style=\"text-align: right;\">\n",
       "      <th></th>\n",
       "      <th>Model</th>\n",
       "      <th>Akurasi</th>\n",
       "    </tr>\n",
       "  </thead>\n",
       "  <tbody>\n",
       "    <tr>\n",
       "      <th>0</th>\n",
       "      <td>Multinomial NaiveBayes</td>\n",
       "      <td>0.82</td>\n",
       "    </tr>\n",
       "    <tr>\n",
       "      <th>2</th>\n",
       "      <td>Complement Naive Bayes</td>\n",
       "      <td>0.80</td>\n",
       "    </tr>\n",
       "    <tr>\n",
       "      <th>3</th>\n",
       "      <td>Complement Naive Bayes</td>\n",
       "      <td>0.80</td>\n",
       "    </tr>\n",
       "    <tr>\n",
       "      <th>4</th>\n",
       "      <td>Complement Naive Bayes</td>\n",
       "      <td>0.80</td>\n",
       "    </tr>\n",
       "    <tr>\n",
       "      <th>5</th>\n",
       "      <td>Bernoulli Naive Bayes</td>\n",
       "      <td>0.79</td>\n",
       "    </tr>\n",
       "    <tr>\n",
       "      <th>1</th>\n",
       "      <td>Gaussian Naive Bayes</td>\n",
       "      <td>0.64</td>\n",
       "    </tr>\n",
       "  </tbody>\n",
       "</table>\n",
       "</div>"
      ],
      "text/plain": [
       "                    Model  Akurasi\n",
       "0  Multinomial NaiveBayes     0.82\n",
       "2  Complement Naive Bayes     0.80\n",
       "3  Complement Naive Bayes     0.80\n",
       "4  Complement Naive Bayes     0.80\n",
       "5   Bernoulli Naive Bayes     0.79\n",
       "1    Gaussian Naive Bayes     0.64"
      ]
     },
     "execution_count": 24,
     "metadata": {},
     "output_type": "execute_result"
    }
   ],
   "source": [
    "results2 = pd.DataFrame({ 'Model': MODEL,\n",
    "                         'Akurasi': TEST})\n",
    "\n",
    "results2.sort_values(by='Akurasi',ascending=False)"
   ]
  },
  {
   "cell_type": "code",
   "execution_count": 25,
   "metadata": {},
   "outputs": [
    {
     "name": "stdout",
     "output_type": "stream",
     "text": [
      "                    Model  Akurasi\n",
      "0  Multinomial NaiveBayes     0.82\n",
      "2  Complement Naive Bayes     0.80\n",
      "5   Bernoulli Naive Bayes     0.79\n",
      "1    Gaussian Naive Bayes     0.64\n"
     ]
    }
   ],
   "source": [
    "import pandas as pd\n",
    "\n",
    "# Assuming you have your DataFrame results2 with the columns 'Model' and 'Akurasi'\n",
    "\n",
    "# Drop duplicate rows based on the 'Model' column\n",
    "unique_models = results2.drop_duplicates(subset=['Model'], keep='first')\n",
    "\n",
    "# Sort the DataFrame by 'Akurasi' column in descending order\n",
    "unique_models_sorted = unique_models.sort_values(by='Akurasi', ascending=False)\n",
    "\n",
    "print(unique_models_sorted)\n"
   ]
  },
  {
   "cell_type": "code",
   "execution_count": null,
   "metadata": {},
   "outputs": [],
   "source": []
  },
  {
   "cell_type": "code",
   "execution_count": 23,
   "metadata": {},
   "outputs": [],
   "source": [
    "#from sklearn.naive_bayes import CategoricalNB\n",
    "#from sklearn.metrics import accuracy_score\n",
    "\n",
    "#model_categorical_nb = CategoricalNB().fit(X_train.toarray(), y_train)\n",
    "\n",
    "#pred_categorical_nb = model_categorical_nb.predict(X_test.toarray())\n",
    "#acc_categorical_nb = accuracy_score(pred_categorical_nb, y_test)\n",
    "#print(\"Categorical Naive Bayes:\", acc_categorical_nb)\n",
    "#eval(\"Categorical Naive Bayes\", acc_categorical_nb)\n",
    "\n",
    "# Categorical Naive Bayes\n",
    "#print(\"Categorical NaiveBayes :\")\n",
    "#print(classification_report(pred_categorical_nb, y_test))"
   ]
  },
  {
   "cell_type": "markdown",
   "metadata": {},
   "source": [
    "#########"
   ]
  },
  {
   "cell_type": "code",
   "execution_count": 64,
   "metadata": {},
   "outputs": [
    {
     "name": "stdout",
     "output_type": "stream",
     "text": [
      "SVC Linear Accuracy: 0.8190597204574332\n"
     ]
    }
   ],
   "source": [
    "modelLinearSVC = LinearSVC().fit(X_train, y_train)\n",
    "\n",
    "pred_Linear_svc = modelLinearSVC.predict(X_test)\n",
    "acc_Linear_svc = accuracy_score(pred_Linear_svc, y_test)\n",
    "print(\"SVC Linear Accuracy:\", acc_Linear_svc)\n",
    "eval(\"SVC Linear\", acc_Linear_svc)"
   ]
  },
  {
   "cell_type": "code",
   "execution_count": 65,
   "metadata": {},
   "outputs": [
    {
     "name": "stdout",
     "output_type": "stream",
     "text": [
      "SVC Accuracy: 0.832274459974587\n"
     ]
    }
   ],
   "source": [
    "modelSVC = SVC().fit(X_train, y_train)\n",
    "\n",
    "pred_svc = modelSVC.predict(X_test)\n",
    "acc_svc = accuracy_score(pred_svc, y_test)\n",
    "print(\"SVC Accuracy:\", acc_svc)\n",
    "eval(\"SVC\", acc_svc)"
   ]
  },
  {
   "cell_type": "code",
   "execution_count": 66,
   "metadata": {},
   "outputs": [
    {
     "name": "stdout",
     "output_type": "stream",
     "text": [
      "SGDClassifier Accuracy: 0.8233799237611181\n"
     ]
    }
   ],
   "source": [
    "modelSGDClassifier = SGDClassifier().fit(X_train, y_train)\n",
    "\n",
    "# Prediksi dan evaluasi model\n",
    "pred_sgd = modelSGDClassifier.predict(X_test)\n",
    "acc_sgd = accuracy_score(pred_sgd, y_test)\n",
    "print(\"SGDClassifier Accuracy:\", acc_sgd)\n",
    "eval(\"SGDClassifier\", acc_sgd)"
   ]
  },
  {
   "cell_type": "code",
   "execution_count": 67,
   "metadata": {},
   "outputs": [
    {
     "name": "stdout",
     "output_type": "stream",
     "text": [
      "Passive Aggressive Classifier Accuracy: 0.7646759847522236\n"
     ]
    }
   ],
   "source": [
    "modelPassiveAggressiveClassifier = PassiveAggressiveClassifier().fit(X_train, y_train)\n",
    "\n",
    "pred_passive = modelPassiveAggressiveClassifier.predict(X_test)\n",
    "acc_passive = accuracy_score(pred_passive, y_test)\n",
    "print(\"Passive Aggressive Classifier Accuracy:\", acc_passive)\n",
    "eval(\"Passive Aggressive Classifier\", acc_passive)"
   ]
  },
  {
   "cell_type": "code",
   "execution_count": 68,
   "metadata": {},
   "outputs": [
    {
     "name": "stdout",
     "output_type": "stream",
     "text": [
      "Logistic Regression Accuracy: 0.8249047013977129\n"
     ]
    }
   ],
   "source": [
    "# Model LogisticRegression\n",
    "modelLogisticRegression = LogisticRegression().fit(X_train, y_train)\n",
    "\n",
    "# Prediksi dan evaluasi model\n",
    "pred_logreg = modelLogisticRegression.predict(X_test)\n",
    "acc_logreg = accuracy_score(pred_logreg, y_test)\n",
    "print(\"Logistic Regression Accuracy:\", acc_logreg)\n",
    "eval(\"Logistic Regression \", acc_logreg)"
   ]
  },
  {
   "cell_type": "code",
   "execution_count": 69,
   "metadata": {},
   "outputs": [
    {
     "name": "stderr",
     "output_type": "stream",
     "text": [
      "C:\\Users\\dwiah\\anaconda3new\\lib\\site-packages\\sklearn\\linear_model\\_logistic.py:458: ConvergenceWarning: lbfgs failed to converge (status=1):\n",
      "STOP: TOTAL NO. of ITERATIONS REACHED LIMIT.\n",
      "\n",
      "Increase the number of iterations (max_iter) or scale the data as shown in:\n",
      "    https://scikit-learn.org/stable/modules/preprocessing.html\n",
      "Please also refer to the documentation for alternative solver options:\n",
      "    https://scikit-learn.org/stable/modules/linear_model.html#logistic-regression\n",
      "  n_iter_i = _check_optimize_result(\n",
      "C:\\Users\\dwiah\\anaconda3new\\lib\\site-packages\\sklearn\\linear_model\\_logistic.py:458: ConvergenceWarning: lbfgs failed to converge (status=1):\n",
      "STOP: TOTAL NO. of ITERATIONS REACHED LIMIT.\n",
      "\n",
      "Increase the number of iterations (max_iter) or scale the data as shown in:\n",
      "    https://scikit-learn.org/stable/modules/preprocessing.html\n",
      "Please also refer to the documentation for alternative solver options:\n",
      "    https://scikit-learn.org/stable/modules/linear_model.html#logistic-regression\n",
      "  n_iter_i = _check_optimize_result(\n",
      "C:\\Users\\dwiah\\anaconda3new\\lib\\site-packages\\sklearn\\linear_model\\_logistic.py:458: ConvergenceWarning: lbfgs failed to converge (status=1):\n",
      "STOP: TOTAL NO. of ITERATIONS REACHED LIMIT.\n",
      "\n",
      "Increase the number of iterations (max_iter) or scale the data as shown in:\n",
      "    https://scikit-learn.org/stable/modules/preprocessing.html\n",
      "Please also refer to the documentation for alternative solver options:\n",
      "    https://scikit-learn.org/stable/modules/linear_model.html#logistic-regression\n",
      "  n_iter_i = _check_optimize_result(\n",
      "C:\\Users\\dwiah\\anaconda3new\\lib\\site-packages\\sklearn\\linear_model\\_logistic.py:458: ConvergenceWarning: lbfgs failed to converge (status=1):\n",
      "STOP: TOTAL NO. of ITERATIONS REACHED LIMIT.\n",
      "\n",
      "Increase the number of iterations (max_iter) or scale the data as shown in:\n",
      "    https://scikit-learn.org/stable/modules/preprocessing.html\n",
      "Please also refer to the documentation for alternative solver options:\n",
      "    https://scikit-learn.org/stable/modules/linear_model.html#logistic-regression\n",
      "  n_iter_i = _check_optimize_result(\n",
      "C:\\Users\\dwiah\\anaconda3new\\lib\\site-packages\\sklearn\\linear_model\\_logistic.py:458: ConvergenceWarning: lbfgs failed to converge (status=1):\n",
      "STOP: TOTAL NO. of ITERATIONS REACHED LIMIT.\n",
      "\n",
      "Increase the number of iterations (max_iter) or scale the data as shown in:\n",
      "    https://scikit-learn.org/stable/modules/preprocessing.html\n",
      "Please also refer to the documentation for alternative solver options:\n",
      "    https://scikit-learn.org/stable/modules/linear_model.html#logistic-regression\n",
      "  n_iter_i = _check_optimize_result(\n"
     ]
    },
    {
     "name": "stdout",
     "output_type": "stream",
     "text": [
      "Logistic Regression CV Accuracy: 0.8254129606099111\n"
     ]
    }
   ],
   "source": [
    "# Model LogisticRegressionCV\n",
    "modelLogisticRegressionCV = LogisticRegressionCV().fit(X_train, y_train)\n",
    "\n",
    "# Prediksi dan evaluasi model\n",
    "pred_logregcv = modelLogisticRegressionCV.predict(X_test)\n",
    "acc_logregcv = accuracy_score(pred_logregcv, y_test)\n",
    "print(\"Logistic Regression CV Accuracy:\", acc_logregcv)\n",
    "eval(\"Logistic Regression CV\", acc_logregcv)"
   ]
  },
  {
   "cell_type": "code",
   "execution_count": 70,
   "metadata": {},
   "outputs": [
    {
     "name": "stdout",
     "output_type": "stream",
     "text": [
      "Calibrated Classifier CV Accuracy: 0.8223634053367217\n"
     ]
    }
   ],
   "source": [
    "# Model CalibratedClassifierCV\n",
    "modelCalibratedClassifierCV = CalibratedClassifierCV().fit(X_train, y_train)\n",
    "\n",
    "# Prediksi dan evaluasi model\n",
    "pred_calibrated = modelCalibratedClassifierCV.predict(X_test)\n",
    "acc_calibrated = accuracy_score(pred_calibrated, y_test)\n",
    "print(\"Calibrated Classifier CV Accuracy:\", acc_calibrated)\n",
    "eval(\"Calibrated Classifier CV \", acc_calibrated)"
   ]
  },
  {
   "cell_type": "code",
   "execution_count": 71,
   "metadata": {},
   "outputs": [
    {
     "name": "stdout",
     "output_type": "stream",
     "text": [
      "Random Forest Classifier Accuracy: 0.8315120711562897\n"
     ]
    }
   ],
   "source": [
    "# Model RandomForestClassifier\n",
    "modelRandomForestClassifier = RandomForestClassifier().fit(X_train, y_train)\n",
    "\n",
    "# Prediksi dan evaluasi model\n",
    "pred_random_forest = modelRandomForestClassifier.predict(X_test)\n",
    "acc_random_forest = accuracy_score(pred_random_forest, y_test)\n",
    "print(\"Random Forest Classifier Accuracy:\", acc_random_forest)\n",
    "eval(\"Random Forest Classifier\", acc_random_forest)"
   ]
  },
  {
   "cell_type": "code",
   "execution_count": 72,
   "metadata": {},
   "outputs": [
    {
     "name": "stdout",
     "output_type": "stream",
     "text": [
      "Gradient Boosting Classifier Accuracy: 0.7903430749682337\n"
     ]
    }
   ],
   "source": [
    "# Model GradientBoostingClassifier\n",
    "modelGradientBoostingClassifier = GradientBoostingClassifier().fit(X_train, y_train)\n",
    "\n",
    "# Prediksi dan evaluasi model\n",
    "pred_gradient_boost = modelGradientBoostingClassifier.predict(X_test)\n",
    "acc_gradient_boost = accuracy_score(pred_gradient_boost, y_test)\n",
    "print(\"Gradient Boosting Classifier Accuracy:\", acc_gradient_boost)\n",
    "eval(\"Gradient Boosting Classifier\", acc_gradient_boost)"
   ]
  },
  {
   "cell_type": "code",
   "execution_count": 73,
   "metadata": {},
   "outputs": [
    {
     "name": "stdout",
     "output_type": "stream",
     "text": [
      "Ridge Classifier Accuracy: 0.8218551461245235\n"
     ]
    }
   ],
   "source": [
    "# Model RidgeClassifier\n",
    "modelRidgeClassifier = RidgeClassifier().fit(X_train, y_train)\n",
    "\n",
    "# Prediksi dan evaluasi model\n",
    "pred_ridge = modelRidgeClassifier.predict(X_test)\n",
    "acc_ridge = accuracy_score(pred_ridge, y_test)\n",
    "print(\"Ridge Classifier Accuracy:\", acc_ridge)\n",
    "eval(\"Ridge Classifier\", acc_ridge)"
   ]
  },
  {
   "cell_type": "code",
   "execution_count": 74,
   "metadata": {},
   "outputs": [
    {
     "name": "stdout",
     "output_type": "stream",
     "text": [
      "AdaBoost Classifier Accuracy: 0.7743329097839898\n"
     ]
    }
   ],
   "source": [
    "# Model AdaBoostClassifier\n",
    "modelAdaBoostClassifier = AdaBoostClassifier().fit(X_train, y_train)\n",
    "\n",
    "# Prediksi dan evaluasi model\n",
    "pred_adaboost = modelAdaBoostClassifier.predict(X_test)\n",
    "acc_adaboost = accuracy_score(pred_adaboost, y_test)\n",
    "print(\"AdaBoost Classifier Accuracy:\", acc_adaboost)\n",
    "eval(\"AdaBoost Classifier\", acc_adaboost)"
   ]
  },
  {
   "cell_type": "code",
   "execution_count": 75,
   "metadata": {},
   "outputs": [
    {
     "name": "stdout",
     "output_type": "stream",
     "text": [
      "Extra Trees Classifier Accuracy: 0.8358322744599745\n"
     ]
    }
   ],
   "source": [
    "# Model ExtraTreesClassifier\n",
    "modelExtraTreesClassifier = ExtraTreesClassifier().fit(X_train, y_train)\n",
    "\n",
    "# Prediksi dan evaluasi model\n",
    "pred_extra_trees = modelExtraTreesClassifier.predict(X_test)\n",
    "acc_extra_trees = accuracy_score(pred_extra_trees, y_test)\n",
    "print(\"Extra Trees Classifier Accuracy:\", acc_extra_trees)\n",
    "eval(\"Extra Trees Classifier\", acc_extra_trees)"
   ]
  },
  {
   "cell_type": "code",
   "execution_count": 76,
   "metadata": {},
   "outputs": [
    {
     "name": "stdout",
     "output_type": "stream",
     "text": [
      "K Neighbors Classifier Accuracy: 0.4701397712833545\n"
     ]
    }
   ],
   "source": [
    "# Model KNeighborsClassifier\n",
    "modelKNeighborsClassifier = KNeighborsClassifier().fit(X_train, y_train)\n",
    "\n",
    "# Prediksi dan evaluasi model\n",
    "pred_kneighbors = modelKNeighborsClassifier.predict(X_test)\n",
    "acc_kneighbors = accuracy_score(pred_kneighbors, y_test)\n",
    "print(\"K Neighbors Classifier Accuracy:\", acc_kneighbors)\n",
    "eval(\"K Neighbors Classifier\", acc_kneighbors)"
   ]
  },
  {
   "cell_type": "code",
   "execution_count": 77,
   "metadata": {},
   "outputs": [
    {
     "name": "stdout",
     "output_type": "stream",
     "text": [
      "Bagging Classifier Accuracy: 0.8088945362134689\n"
     ]
    }
   ],
   "source": [
    "# Model BaggingClassifier\n",
    "modelBaggingClassifier = BaggingClassifier().fit(X_train, y_train)\n",
    "\n",
    "# Prediksi dan evaluasi model\n",
    "pred_bagging = modelBaggingClassifier.predict(X_test)\n",
    "acc_bagging = accuracy_score(pred_bagging, y_test)\n",
    "print(\"Bagging Classifier Accuracy:\", acc_bagging)\n",
    "eval(\"Bagging Classifier\", acc_bagging)"
   ]
  },
  {
   "cell_type": "code",
   "execution_count": 78,
   "metadata": {},
   "outputs": [
    {
     "name": "stdout",
     "output_type": "stream",
     "text": [
      "BernoulliNB Accuracy: 0.7944091486658196\n"
     ]
    }
   ],
   "source": [
    "# Model BernoulliNB\n",
    "modelBernoulliNB = BernoulliNB().fit(X_train, y_train)\n",
    "\n",
    "# Prediksi dan evaluasi model\n",
    "pred_bernoulli = modelBernoulliNB.predict(X_test)\n",
    "acc_bernoulli = accuracy_score(pred_bernoulli, y_test)\n",
    "print(\"BernoulliNB Accuracy:\", acc_bernoulli)\n",
    "eval(\"BernoulliNB\", acc_bernoulli)"
   ]
  },
  {
   "cell_type": "code",
   "execution_count": 79,
   "metadata": {},
   "outputs": [
    {
     "name": "stdout",
     "output_type": "stream",
     "text": [
      "NuSVC Accuracy: 0.8350698856416773\n"
     ]
    }
   ],
   "source": [
    "# Model NuSVC\n",
    "modelNuSVC = NuSVC().fit(X_train, y_train)\n",
    "\n",
    "# Prediksi dan evaluasi model\n",
    "pred_nu_svc = modelNuSVC.predict(X_test)\n",
    "acc_nu_svc = accuracy_score(pred_nu_svc, y_test)\n",
    "print(\"NuSVC Accuracy:\", acc_nu_svc)\n",
    "eval(\"NuSVC\", acc_nu_svc)"
   ]
  },
  {
   "cell_type": "code",
   "execution_count": 80,
   "metadata": {},
   "outputs": [
    {
     "name": "stdout",
     "output_type": "stream",
     "text": [
      "Decision Tree Classifier Accuracy: 0.7766200762388819\n"
     ]
    }
   ],
   "source": [
    "# Model DecisionTreeClassifier\n",
    "modelDecisionTreeClassifier = DecisionTreeClassifier().fit(X_train, y_train)\n",
    "\n",
    "# Prediksi dan evaluasi model\n",
    "pred_decision_tree = modelDecisionTreeClassifier.predict(X_test)\n",
    "acc_decision_tree = accuracy_score(pred_decision_tree, y_test)\n",
    "print(\"Decision Tree Classifier Accuracy:\", acc_decision_tree)\n",
    "eval(\"Decision Tree Classifier\", acc_decision_tree)"
   ]
  },
  {
   "cell_type": "code",
   "execution_count": 81,
   "metadata": {},
   "outputs": [
    {
     "name": "stdout",
     "output_type": "stream",
     "text": [
      "Nearest Centroid Accuracy: 0.7867852604828462\n"
     ]
    }
   ],
   "source": [
    "# Model NearestCentroid\n",
    "modelNearestCentroid = NearestCentroid().fit(X_train, y_train)\n",
    "\n",
    "# Prediksi dan evaluasi model\n",
    "pred_nearest_centroid = modelNearestCentroid.predict(X_test)\n",
    "acc_nearest_centroid = accuracy_score(pred_nearest_centroid, y_test)\n",
    "print(\"Nearest Centroid Accuracy:\", acc_nearest_centroid)\n",
    "eval(\"Nearest Centroid\", acc_nearest_centroid)"
   ]
  },
  {
   "cell_type": "code",
   "execution_count": 82,
   "metadata": {},
   "outputs": [
    {
     "name": "stdout",
     "output_type": "stream",
     "text": [
      "Extra Tree Classifier Accuracy: 0.6983481575603557\n"
     ]
    }
   ],
   "source": [
    "# Model ExtraTreeClassifier\n",
    "modelExtraTreeClassifier = ExtraTreeClassifier().fit(X_train, y_train)\n",
    "\n",
    "# Prediksi dan evaluasi model\n",
    "pred_extra_tree = modelExtraTreeClassifier.predict(X_test)\n",
    "acc_extra_tree = accuracy_score(pred_extra_tree, y_test)\n",
    "print(\"Extra Tree Classifier Accuracy:\", acc_extra_tree)\n",
    "eval(\"Extra Tree Classifier\", acc_extra_tree)"
   ]
  },
  {
   "cell_type": "code",
   "execution_count": 83,
   "metadata": {},
   "outputs": [
    {
     "name": "stdout",
     "output_type": "stream",
     "text": [
      "Dummy Classifier Accuracy: 0.5763659466327827\n"
     ]
    }
   ],
   "source": [
    "# Model DummyClassifier\n",
    "modelDummyClassifier = DummyClassifier().fit(X_train, y_train)\n",
    "\n",
    "# Prediksi dan evaluasi model\n",
    "pred_dummy = modelDummyClassifier.predict(X_test)\n",
    "acc_dummy = accuracy_score(pred_dummy, y_test)\n",
    "print(\"Dummy Classifier Accuracy:\", acc_dummy)\n",
    "eval(\"Dummy Classifier\", acc_dummy)"
   ]
  },
  {
   "cell_type": "code",
   "execution_count": 84,
   "metadata": {},
   "outputs": [
    {
     "name": "stdout",
     "output_type": "stream",
     "text": [
      "Ridge Classifier CV Accuracy: 0.8218551461245235\n"
     ]
    }
   ],
   "source": [
    "# Model RidgeClassifierCV\n",
    "modelRidgeClassifierCV = RidgeClassifierCV().fit(X_train, y_train)\n",
    "\n",
    "# Prediksi dan evaluasi model\n",
    "pred_ridge_cv = modelRidgeClassifierCV.predict(X_test)\n",
    "acc_ridge_cv = accuracy_score(pred_ridge_cv, y_test)\n",
    "print(\"Ridge Classifier CV Accuracy:\", acc_ridge_cv)\n",
    "eval(\"Ridge Classifier\", acc_ridge_cv)"
   ]
  },
  {
   "cell_type": "code",
   "execution_count": 85,
   "metadata": {},
   "outputs": [
    {
     "name": "stdout",
     "output_type": "stream",
     "text": [
      "Perceptron Accuracy: 0.7601016518424396\n"
     ]
    }
   ],
   "source": [
    "# Model Perceptron\n",
    "modelPerceptron = Perceptron().fit(X_train, y_train)\n",
    "\n",
    "# Prediksi dan evaluasi model\n",
    "pred_perceptron = modelPerceptron.predict(X_test)\n",
    "acc_perceptron = accuracy_score(pred_perceptron, y_test)\n",
    "print(\"Perceptron Accuracy:\", acc_perceptron)\n",
    "eval(\"Perceptron\", acc_perceptron)"
   ]
  },
  {
   "cell_type": "code",
   "execution_count": 86,
   "metadata": {},
   "outputs": [
    {
     "name": "stdout",
     "output_type": "stream",
     "text": [
      "GaussianNB Accuracy: 0.6355781448538754\n"
     ]
    }
   ],
   "source": [
    "# Model GaussianNB\n",
    "modelGaussianNB = GaussianNB().fit(X_train.toarray(), y_train)\n",
    "\n",
    "# Prediksi dan evaluasi model\n",
    "pred_gaussian = modelGaussianNB.predict(X_test.toarray())\n",
    "acc_gaussian = accuracy_score(pred_gaussian, y_test)\n",
    "print(\"GaussianNB Accuracy:\", acc_gaussian)\n",
    "eval(\"GaussianNB\", acc_gaussian)"
   ]
  },
  {
   "cell_type": "code",
   "execution_count": 87,
   "metadata": {},
   "outputs": [
    {
     "name": "stdout",
     "output_type": "stream",
     "text": [
      "LinearDiscriminantAnalysis Accuracy: 0.627700127064803\n"
     ]
    }
   ],
   "source": [
    "# Model LinearDiscriminantAnalysis\n",
    "modelLinearDiscriminantAnalysis = LinearDiscriminantAnalysis().fit(X_train.toarray(), y_train)\n",
    "\n",
    "# Prediksi dan evaluasi model\n",
    "pred_linear_discriminant = modelLinearDiscriminantAnalysis.predict(X_test.toarray())\n",
    "acc_linear_discriminant = accuracy_score(pred_linear_discriminant, y_test)\n",
    "print(\"LinearDiscriminantAnalysis Accuracy:\", acc_linear_discriminant)\n",
    "eval(\"LinearDiscriminantAnalysis\", acc_linear_discriminant)"
   ]
  },
  {
   "cell_type": "code",
   "execution_count": 88,
   "metadata": {},
   "outputs": [
    {
     "name": "stderr",
     "output_type": "stream",
     "text": [
      "C:\\Users\\dwiah\\anaconda3new\\lib\\site-packages\\sklearn\\discriminant_analysis.py:926: UserWarning: Variables are collinear\n",
      "  warnings.warn(\"Variables are collinear\")\n"
     ]
    },
    {
     "name": "stdout",
     "output_type": "stream",
     "text": [
      "Quadratic Discriminant Analysis Accuracy: 0.6226175349428208\n"
     ]
    }
   ],
   "source": [
    "# Model QuadraticDiscriminantAnalysis\n",
    "modelQuadraticDiscriminantAnalysis = QuadraticDiscriminantAnalysis().fit(X_train.toarray(), y_train)\n",
    "\n",
    "# Prediksi dan evaluasi model\n",
    "pred_quadratic_discriminant = modelQuadraticDiscriminantAnalysis.predict(X_test.toarray())\n",
    "acc_quadratic_discriminant = accuracy_score(pred_quadratic_discriminant, y_test)\n",
    "print(\"Quadratic Discriminant Analysis Accuracy:\", acc_quadratic_discriminant)\n",
    "eval(\"Quadratic Discriminant Analysis\", acc_quadratic_discriminant)"
   ]
  },
  {
   "cell_type": "code",
   "execution_count": 89,
   "metadata": {},
   "outputs": [
    {
     "name": "stdout",
     "output_type": "stream",
     "text": [
      "HistGradient Boosting Classifier Accuracy: 0.8264294790343075\n"
     ]
    }
   ],
   "source": [
    "# Model HistGradientBoostingClassifier\n",
    "modelHistGradientBoostingClassifier = HistGradientBoostingClassifier().fit(X_train.toarray(), y_train)\n",
    "\n",
    "# Prediksi dan evaluasi model\n",
    "pred_hist_gradient_boost = modelHistGradientBoostingClassifier.predict(X_test.toarray())\n",
    "acc_hist_gradient_boost = accuracy_score(pred_hist_gradient_boost, y_test)\n",
    "print(\"HistGradient Boosting Classifier Accuracy:\", acc_hist_gradient_boost)\n",
    "eval(\"HistGradient Boosting Classifier\", acc_hist_gradient_boost)"
   ]
  },
  {
   "cell_type": "code",
   "execution_count": 90,
   "metadata": {},
   "outputs": [
    {
     "name": "stdout",
     "output_type": "stream",
     "text": [
      "Label Spreading Accuracy: 0.5265565438373571\n"
     ]
    }
   ],
   "source": [
    "# Model LabelSpreading\n",
    "modelLabelSpreading = LabelSpreading().fit(X_train.toarray(), y_train)\n",
    "\n",
    "# Prediksi dan evaluasi model\n",
    "pred_label_spread = modelLabelSpreading.predict(X_test.toarray())\n",
    "acc_label_spread = accuracy_score(pred_label_spread, y_test)\n",
    "print(\"Label Spreading Accuracy:\", acc_label_spread)\n",
    "eval(\"Label Spreading\", acc_label_spread)"
   ]
  },
  {
   "cell_type": "code",
   "execution_count": 91,
   "metadata": {},
   "outputs": [
    {
     "name": "stdout",
     "output_type": "stream",
     "text": [
      "Label Propagation Accuracy: 0.5268106734434561\n"
     ]
    }
   ],
   "source": [
    "modelLabelPropagation = LabelPropagation().fit(X_train.toarray(), y_train)\n",
    "\n",
    "pred_label_prop = modelLabelPropagation.predict(X_test.toarray())\n",
    "acc_label_prop = accuracy_score(pred_label_prop, y_test)\n",
    "print(\"Label Propagation Accuracy:\", acc_label_prop)\n",
    "eval(\"Label Propagation\", acc_label_prop)"
   ]
  },
  {
   "cell_type": "code",
   "execution_count": 92,
   "metadata": {},
   "outputs": [
    {
     "name": "stdout",
     "output_type": "stream",
     "text": [
      "MLPClassifier Accuracy: 0.7499364675984752\n"
     ]
    },
    {
     "name": "stderr",
     "output_type": "stream",
     "text": [
      "C:\\Users\\dwiah\\anaconda3new\\lib\\site-packages\\sklearn\\neural_network\\_multilayer_perceptron.py:684: ConvergenceWarning: Stochastic Optimizer: Maximum iterations (200) reached and the optimization hasn't converged yet.\n",
      "  warnings.warn(\n"
     ]
    }
   ],
   "source": [
    "modelMLPClassifier = MLPClassifier().fit(X_train, y_train)\n",
    "\n",
    "\n",
    "pred_mlp = modelMLPClassifier.predict(X_test)\n",
    "acc_mlp = accuracy_score(pred_mlp, y_test)\n",
    "print(\"MLPClassifier Accuracy:\", acc_mlp)\n",
    "eval(\"MLPClassifier\", acc_mlp)"
   ]
  },
  {
   "cell_type": "code",
   "execution_count": 93,
   "metadata": {},
   "outputs": [],
   "source": [
    "eval(\"GaussianNB\", acc_gaussian)\n",
    "eval(\"LinearDiscriminantAnalysis\", acc_linear_discriminant)\n",
    "eval(\"Quadratic Discriminant Analysis\", acc_quadratic_discriminant)\n",
    "eval(\"HistGradient Boosting Classifier\", acc_hist_gradient_boost)\n",
    "eval(\"Label Spreading\", acc_label_spread)\n",
    "eval(\"Label Propagation\", acc_label_prop)\n",
    "eval(\"MLPClassifier\", acc_mlp)"
   ]
  },
  {
   "cell_type": "code",
   "execution_count": 2,
   "metadata": {},
   "outputs": [
    {
     "ename": "NameError",
     "evalue": "name 'pd' is not defined",
     "output_type": "error",
     "traceback": [
      "\u001b[1;31m---------------------------------------------------------------------------\u001b[0m",
      "\u001b[1;31mNameError\u001b[0m                                 Traceback (most recent call last)",
      "Cell \u001b[1;32mIn[2], line 1\u001b[0m\n\u001b[1;32m----> 1\u001b[0m results2 \u001b[38;5;241m=\u001b[39m \u001b[43mpd\u001b[49m\u001b[38;5;241m.\u001b[39mDataFrame({ \u001b[38;5;124m'\u001b[39m\u001b[38;5;124mModel\u001b[39m\u001b[38;5;124m'\u001b[39m: MODEL,\n\u001b[0;32m      2\u001b[0m                          \u001b[38;5;124m'\u001b[39m\u001b[38;5;124mAkurasi\u001b[39m\u001b[38;5;124m'\u001b[39m: TEST})\n\u001b[0;32m      4\u001b[0m results2\u001b[38;5;241m.\u001b[39msort_values(by\u001b[38;5;241m=\u001b[39m\u001b[38;5;124m'\u001b[39m\u001b[38;5;124mAkurasi\u001b[39m\u001b[38;5;124m'\u001b[39m,ascending\u001b[38;5;241m=\u001b[39m\u001b[38;5;28;01mFalse\u001b[39;00m)\n",
      "\u001b[1;31mNameError\u001b[0m: name 'pd' is not defined"
     ]
    }
   ],
   "source": [
    "results2 = pd.DataFrame({ 'Model': MODEL,\n",
    "                         'Akurasi': TEST})\n",
    "\n",
    "results2.sort_values(by='Akurasi',ascending=False)"
   ]
  },
  {
   "cell_type": "code",
   "execution_count": null,
   "metadata": {},
   "outputs": [],
   "source": []
  },
  {
   "cell_type": "code",
   "execution_count": 33,
   "metadata": {},
   "outputs": [
    {
     "ename": "NameError",
     "evalue": "name 'pred_linear_svc' is not defined",
     "output_type": "error",
     "traceback": [
      "\u001b[1;31m---------------------------------------------------------------------------\u001b[0m",
      "\u001b[1;31mNameError\u001b[0m                                 Traceback (most recent call last)",
      "Cell \u001b[1;32mIn[35], line 4\u001b[0m\n\u001b[0;32m      1\u001b[0m \u001b[38;5;28;01mfrom\u001b[39;00m \u001b[38;5;21;01msklearn\u001b[39;00m\u001b[38;5;21;01m.\u001b[39;00m\u001b[38;5;21;01mmetrics\u001b[39;00m \u001b[38;5;28;01mimport\u001b[39;00m classification_report\n\u001b[0;32m      3\u001b[0m \u001b[38;5;66;03m# Daftar model prediksi\u001b[39;00m\n\u001b[1;32m----> 4\u001b[0m list_of_predictions \u001b[38;5;241m=\u001b[39m [\u001b[43mpred_linear_svc\u001b[49m, pred_sgd, pred_mlp]\n\u001b[0;32m      6\u001b[0m \u001b[38;5;66;03m# Perulangan untuk mencetak laporan klasifikasi\u001b[39;00m\n\u001b[0;32m      7\u001b[0m \u001b[38;5;28;01mfor\u001b[39;00m pred \u001b[38;5;129;01min\u001b[39;00m list_of_predictions:\n",
      "\u001b[1;31mNameError\u001b[0m: name 'pred_linear_svc' is not defined"
     ]
    }
   ],
   "source": [
    "from sklearn.metrics import classification_report\n",
    "\n",
    "# Daftar model prediksi\n",
    "list_of_predictions = [pred_svc, pred_linear_svc, pred_sgd, pred_mlp]\n",
    "\n",
    "# Perulangan untuk mencetak laporan klasifikasi\n",
    "for pred in list_of_predictions:\n",
    "    print(classification_report(pred, y_test))\n",
    "    print(\"---------\")"
   ]
  },
  {
   "cell_type": "code",
   "execution_count": null,
   "metadata": {},
   "outputs": [],
   "source": []
  },
  {
   "cell_type": "code",
   "execution_count": 12,
   "metadata": {},
   "outputs": [
    {
     "name": "stdout",
     "output_type": "stream",
     "text": [
      "Label Spreading:\n",
      "              precision    recall  f1-score   support\n",
      "\n",
      "           0       0.99      0.59      0.74      3836\n",
      "           1       0.05      0.86      0.10        99\n",
      "\n",
      "    accuracy                           0.59      3935\n",
      "   macro avg       0.52      0.72      0.42      3935\n",
      "weighted avg       0.97      0.59      0.72      3935\n",
      "\n"
     ]
    },
    {
     "name": "stderr",
     "output_type": "stream",
     "text": [
      "C:\\Users\\dwiah\\anaconda3new\\lib\\site-packages\\sklearn\\semi_supervised\\_label_propagation.py:231: RuntimeWarning: invalid value encountered in divide\n",
      "  probabilities /= normalizer\n"
     ]
    }
   ],
   "source": [
    "from sklearn.semi_supervised import LabelSpreading\n",
    "from sklearn.preprocessing import StandardScaler\n",
    "\n",
    "# ...\n",
    "\n",
    "# Convert the sparse matrices to dense arrays\n",
    "X_train_dense = X_train.toarray()\n",
    "X_test_dense = X_test.toarray()\n",
    "\n",
    "# Scale the dense arrays for better performance\n",
    "scaler = StandardScaler()\n",
    "X_train_scaled = scaler.fit_transform(X_train_dense)\n",
    "X_test_scaled = scaler.transform(X_test_dense)\n",
    "\n",
    "# Label Spreading\n",
    "modelLabelSpreading = LabelSpreading().fit(X_train_scaled, y_train)\n",
    "pred_label_spreading = modelLabelSpreading.predict(X_test_scaled)\n",
    "print(\"Label Spreading:\")\n",
    "print(classification_report(pred_label_spreading, y_test))\n"
   ]
  },
  {
   "cell_type": "code",
   "execution_count": null,
   "metadata": {},
   "outputs": [],
   "source": []
  },
  {
   "cell_type": "code",
   "execution_count": null,
   "metadata": {},
   "outputs": [],
   "source": []
  },
  {
   "cell_type": "code",
   "execution_count": 18,
   "metadata": {},
   "outputs": [
    {
     "name": "stderr",
     "output_type": "stream",
     "text": [
      "C:\\Users\\dwiah\\anaconda3new\\lib\\site-packages\\sklearn\\experimental\\enable_hist_gradient_boosting.py:16: UserWarning: Since version 1.0, it is not needed to import enable_hist_gradient_boosting anymore. HistGradientBoostingClassifier and HistGradientBoostingRegressor are now stable and can be normally imported from sklearn.ensemble.\n",
      "  warnings.warn(\n",
      "C:\\Users\\dwiah\\anaconda3new\\lib\\site-packages\\sklearn\\linear_model\\_logistic.py:458: ConvergenceWarning: lbfgs failed to converge (status=1):\n",
      "STOP: TOTAL NO. of ITERATIONS REACHED LIMIT.\n",
      "\n",
      "Increase the number of iterations (max_iter) or scale the data as shown in:\n",
      "    https://scikit-learn.org/stable/modules/preprocessing.html\n",
      "Please also refer to the documentation for alternative solver options:\n",
      "    https://scikit-learn.org/stable/modules/linear_model.html#logistic-regression\n",
      "  n_iter_i = _check_optimize_result(\n",
      "C:\\Users\\dwiah\\anaconda3new\\lib\\site-packages\\sklearn\\linear_model\\_logistic.py:458: ConvergenceWarning: lbfgs failed to converge (status=1):\n",
      "STOP: TOTAL NO. of ITERATIONS REACHED LIMIT.\n",
      "\n",
      "Increase the number of iterations (max_iter) or scale the data as shown in:\n",
      "    https://scikit-learn.org/stable/modules/preprocessing.html\n",
      "Please also refer to the documentation for alternative solver options:\n",
      "    https://scikit-learn.org/stable/modules/linear_model.html#logistic-regression\n",
      "  n_iter_i = _check_optimize_result(\n",
      "C:\\Users\\dwiah\\anaconda3new\\lib\\site-packages\\sklearn\\linear_model\\_logistic.py:458: ConvergenceWarning: lbfgs failed to converge (status=1):\n",
      "STOP: TOTAL NO. of ITERATIONS REACHED LIMIT.\n",
      "\n",
      "Increase the number of iterations (max_iter) or scale the data as shown in:\n",
      "    https://scikit-learn.org/stable/modules/preprocessing.html\n",
      "Please also refer to the documentation for alternative solver options:\n",
      "    https://scikit-learn.org/stable/modules/linear_model.html#logistic-regression\n",
      "  n_iter_i = _check_optimize_result(\n",
      "C:\\Users\\dwiah\\anaconda3new\\lib\\site-packages\\sklearn\\linear_model\\_logistic.py:458: ConvergenceWarning: lbfgs failed to converge (status=1):\n",
      "STOP: TOTAL NO. of ITERATIONS REACHED LIMIT.\n",
      "\n",
      "Increase the number of iterations (max_iter) or scale the data as shown in:\n",
      "    https://scikit-learn.org/stable/modules/preprocessing.html\n",
      "Please also refer to the documentation for alternative solver options:\n",
      "    https://scikit-learn.org/stable/modules/linear_model.html#logistic-regression\n",
      "  n_iter_i = _check_optimize_result(\n",
      "C:\\Users\\dwiah\\anaconda3new\\lib\\site-packages\\sklearn\\linear_model\\_logistic.py:458: ConvergenceWarning: lbfgs failed to converge (status=1):\n",
      "STOP: TOTAL NO. of ITERATIONS REACHED LIMIT.\n",
      "\n",
      "Increase the number of iterations (max_iter) or scale the data as shown in:\n",
      "    https://scikit-learn.org/stable/modules/preprocessing.html\n",
      "Please also refer to the documentation for alternative solver options:\n",
      "    https://scikit-learn.org/stable/modules/linear_model.html#logistic-regression\n",
      "  n_iter_i = _check_optimize_result(\n"
     ]
    },
    {
     "ename": "TypeError",
     "evalue": "A sparse matrix was passed, but dense data is required. Use X.toarray() to convert to a dense numpy array.",
     "output_type": "error",
     "traceback": [
      "\u001b[1;31m---------------------------------------------------------------------------\u001b[0m",
      "\u001b[1;31mTypeError\u001b[0m                                 Traceback (most recent call last)",
      "Cell \u001b[1;32mIn[18], line 68\u001b[0m\n\u001b[0;32m     66\u001b[0m \u001b[38;5;28;01mfor\u001b[39;00m classifier \u001b[38;5;129;01min\u001b[39;00m classifiers:\n\u001b[0;32m     67\u001b[0m     model \u001b[38;5;241m=\u001b[39m make_pipeline(classifier)\n\u001b[1;32m---> 68\u001b[0m     \u001b[43mmodel\u001b[49m\u001b[38;5;241;43m.\u001b[39;49m\u001b[43mfit\u001b[49m\u001b[43m(\u001b[49m\u001b[43mX_train\u001b[49m\u001b[43m,\u001b[49m\u001b[43m \u001b[49m\u001b[43my_train\u001b[49m\u001b[43m)\u001b[49m\n\u001b[0;32m     69\u001b[0m     y_pred \u001b[38;5;241m=\u001b[39m model\u001b[38;5;241m.\u001b[39mpredict(X_test)\n\u001b[0;32m     70\u001b[0m     acc \u001b[38;5;241m=\u001b[39m accuracy_score(y_test, y_pred) \u001b[38;5;241m*\u001b[39m \u001b[38;5;241m100\u001b[39m\n",
      "File \u001b[1;32m~\\anaconda3new\\lib\\site-packages\\sklearn\\pipeline.py:405\u001b[0m, in \u001b[0;36mPipeline.fit\u001b[1;34m(self, X, y, **fit_params)\u001b[0m\n\u001b[0;32m    403\u001b[0m     \u001b[38;5;28;01mif\u001b[39;00m \u001b[38;5;28mself\u001b[39m\u001b[38;5;241m.\u001b[39m_final_estimator \u001b[38;5;241m!=\u001b[39m \u001b[38;5;124m\"\u001b[39m\u001b[38;5;124mpassthrough\u001b[39m\u001b[38;5;124m\"\u001b[39m:\n\u001b[0;32m    404\u001b[0m         fit_params_last_step \u001b[38;5;241m=\u001b[39m fit_params_steps[\u001b[38;5;28mself\u001b[39m\u001b[38;5;241m.\u001b[39msteps[\u001b[38;5;241m-\u001b[39m\u001b[38;5;241m1\u001b[39m][\u001b[38;5;241m0\u001b[39m]]\n\u001b[1;32m--> 405\u001b[0m         \u001b[38;5;28mself\u001b[39m\u001b[38;5;241m.\u001b[39m_final_estimator\u001b[38;5;241m.\u001b[39mfit(Xt, y, \u001b[38;5;241m*\u001b[39m\u001b[38;5;241m*\u001b[39mfit_params_last_step)\n\u001b[0;32m    407\u001b[0m \u001b[38;5;28;01mreturn\u001b[39;00m \u001b[38;5;28mself\u001b[39m\n",
      "File \u001b[1;32m~\\anaconda3new\\lib\\site-packages\\sklearn\\semi_supervised\\_label_propagation.py:480\u001b[0m, in \u001b[0;36mLabelPropagation.fit\u001b[1;34m(self, X, y)\u001b[0m\n\u001b[0;32m    461\u001b[0m \u001b[38;5;28;01mdef\u001b[39;00m \u001b[38;5;21mfit\u001b[39m(\u001b[38;5;28mself\u001b[39m, X, y):\n\u001b[0;32m    462\u001b[0m     \u001b[38;5;124;03m\"\"\"Fit a semi-supervised label propagation model to X.\u001b[39;00m\n\u001b[0;32m    463\u001b[0m \n\u001b[0;32m    464\u001b[0m \u001b[38;5;124;03m    Parameters\u001b[39;00m\n\u001b[1;32m   (...)\u001b[0m\n\u001b[0;32m    478\u001b[0m \u001b[38;5;124;03m        Returns the instance itself.\u001b[39;00m\n\u001b[0;32m    479\u001b[0m \u001b[38;5;124;03m    \"\"\"\u001b[39;00m\n\u001b[1;32m--> 480\u001b[0m     \u001b[38;5;28;01mreturn\u001b[39;00m \u001b[38;5;28;43msuper\u001b[39;49m\u001b[43m(\u001b[49m\u001b[43m)\u001b[49m\u001b[38;5;241;43m.\u001b[39;49m\u001b[43mfit\u001b[49m\u001b[43m(\u001b[49m\u001b[43mX\u001b[49m\u001b[43m,\u001b[49m\u001b[43m \u001b[49m\u001b[43my\u001b[49m\u001b[43m)\u001b[49m\n",
      "File \u001b[1;32m~\\anaconda3new\\lib\\site-packages\\sklearn\\semi_supervised\\_label_propagation.py:259\u001b[0m, in \u001b[0;36mBaseLabelPropagation.fit\u001b[1;34m(self, X, y)\u001b[0m\n\u001b[0;32m    235\u001b[0m \u001b[38;5;124;03m\"\"\"Fit a semi-supervised label propagation model to X.\u001b[39;00m\n\u001b[0;32m    236\u001b[0m \n\u001b[0;32m    237\u001b[0m \u001b[38;5;124;03mThe input samples (labeled and unlabeled) are provided by matrix X,\u001b[39;00m\n\u001b[1;32m   (...)\u001b[0m\n\u001b[0;32m    256\u001b[0m \u001b[38;5;124;03m    Returns the instance itself.\u001b[39;00m\n\u001b[0;32m    257\u001b[0m \u001b[38;5;124;03m\"\"\"\u001b[39;00m\n\u001b[0;32m    258\u001b[0m \u001b[38;5;28mself\u001b[39m\u001b[38;5;241m.\u001b[39m_validate_params()\n\u001b[1;32m--> 259\u001b[0m X, y \u001b[38;5;241m=\u001b[39m \u001b[38;5;28;43mself\u001b[39;49m\u001b[38;5;241;43m.\u001b[39;49m\u001b[43m_validate_data\u001b[49m\u001b[43m(\u001b[49m\u001b[43mX\u001b[49m\u001b[43m,\u001b[49m\u001b[43m \u001b[49m\u001b[43my\u001b[49m\u001b[43m)\u001b[49m\n\u001b[0;32m    260\u001b[0m \u001b[38;5;28mself\u001b[39m\u001b[38;5;241m.\u001b[39mX_ \u001b[38;5;241m=\u001b[39m X\n\u001b[0;32m    261\u001b[0m check_classification_targets(y)\n",
      "File \u001b[1;32m~\\anaconda3new\\lib\\site-packages\\sklearn\\base.py:565\u001b[0m, in \u001b[0;36mBaseEstimator._validate_data\u001b[1;34m(self, X, y, reset, validate_separately, **check_params)\u001b[0m\n\u001b[0;32m    563\u001b[0m         y \u001b[38;5;241m=\u001b[39m check_array(y, input_name\u001b[38;5;241m=\u001b[39m\u001b[38;5;124m\"\u001b[39m\u001b[38;5;124my\u001b[39m\u001b[38;5;124m\"\u001b[39m, \u001b[38;5;241m*\u001b[39m\u001b[38;5;241m*\u001b[39mcheck_y_params)\n\u001b[0;32m    564\u001b[0m     \u001b[38;5;28;01melse\u001b[39;00m:\n\u001b[1;32m--> 565\u001b[0m         X, y \u001b[38;5;241m=\u001b[39m check_X_y(X, y, \u001b[38;5;241m*\u001b[39m\u001b[38;5;241m*\u001b[39mcheck_params)\n\u001b[0;32m    566\u001b[0m     out \u001b[38;5;241m=\u001b[39m X, y\n\u001b[0;32m    568\u001b[0m \u001b[38;5;28;01mif\u001b[39;00m \u001b[38;5;129;01mnot\u001b[39;00m no_val_X \u001b[38;5;129;01mand\u001b[39;00m check_params\u001b[38;5;241m.\u001b[39mget(\u001b[38;5;124m\"\u001b[39m\u001b[38;5;124mensure_2d\u001b[39m\u001b[38;5;124m\"\u001b[39m, \u001b[38;5;28;01mTrue\u001b[39;00m):\n",
      "File \u001b[1;32m~\\anaconda3new\\lib\\site-packages\\sklearn\\utils\\validation.py:1106\u001b[0m, in \u001b[0;36mcheck_X_y\u001b[1;34m(X, y, accept_sparse, accept_large_sparse, dtype, order, copy, force_all_finite, ensure_2d, allow_nd, multi_output, ensure_min_samples, ensure_min_features, y_numeric, estimator)\u001b[0m\n\u001b[0;32m   1101\u001b[0m         estimator_name \u001b[38;5;241m=\u001b[39m _check_estimator_name(estimator)\n\u001b[0;32m   1102\u001b[0m     \u001b[38;5;28;01mraise\u001b[39;00m \u001b[38;5;167;01mValueError\u001b[39;00m(\n\u001b[0;32m   1103\u001b[0m         \u001b[38;5;124mf\u001b[39m\u001b[38;5;124m\"\u001b[39m\u001b[38;5;132;01m{\u001b[39;00mestimator_name\u001b[38;5;132;01m}\u001b[39;00m\u001b[38;5;124m requires y to be passed, but the target y is None\u001b[39m\u001b[38;5;124m\"\u001b[39m\n\u001b[0;32m   1104\u001b[0m     )\n\u001b[1;32m-> 1106\u001b[0m X \u001b[38;5;241m=\u001b[39m \u001b[43mcheck_array\u001b[49m\u001b[43m(\u001b[49m\n\u001b[0;32m   1107\u001b[0m \u001b[43m    \u001b[49m\u001b[43mX\u001b[49m\u001b[43m,\u001b[49m\n\u001b[0;32m   1108\u001b[0m \u001b[43m    \u001b[49m\u001b[43maccept_sparse\u001b[49m\u001b[38;5;241;43m=\u001b[39;49m\u001b[43maccept_sparse\u001b[49m\u001b[43m,\u001b[49m\n\u001b[0;32m   1109\u001b[0m \u001b[43m    \u001b[49m\u001b[43maccept_large_sparse\u001b[49m\u001b[38;5;241;43m=\u001b[39;49m\u001b[43maccept_large_sparse\u001b[49m\u001b[43m,\u001b[49m\n\u001b[0;32m   1110\u001b[0m \u001b[43m    \u001b[49m\u001b[43mdtype\u001b[49m\u001b[38;5;241;43m=\u001b[39;49m\u001b[43mdtype\u001b[49m\u001b[43m,\u001b[49m\n\u001b[0;32m   1111\u001b[0m \u001b[43m    \u001b[49m\u001b[43morder\u001b[49m\u001b[38;5;241;43m=\u001b[39;49m\u001b[43morder\u001b[49m\u001b[43m,\u001b[49m\n\u001b[0;32m   1112\u001b[0m \u001b[43m    \u001b[49m\u001b[43mcopy\u001b[49m\u001b[38;5;241;43m=\u001b[39;49m\u001b[43mcopy\u001b[49m\u001b[43m,\u001b[49m\n\u001b[0;32m   1113\u001b[0m \u001b[43m    \u001b[49m\u001b[43mforce_all_finite\u001b[49m\u001b[38;5;241;43m=\u001b[39;49m\u001b[43mforce_all_finite\u001b[49m\u001b[43m,\u001b[49m\n\u001b[0;32m   1114\u001b[0m \u001b[43m    \u001b[49m\u001b[43mensure_2d\u001b[49m\u001b[38;5;241;43m=\u001b[39;49m\u001b[43mensure_2d\u001b[49m\u001b[43m,\u001b[49m\n\u001b[0;32m   1115\u001b[0m \u001b[43m    \u001b[49m\u001b[43mallow_nd\u001b[49m\u001b[38;5;241;43m=\u001b[39;49m\u001b[43mallow_nd\u001b[49m\u001b[43m,\u001b[49m\n\u001b[0;32m   1116\u001b[0m \u001b[43m    \u001b[49m\u001b[43mensure_min_samples\u001b[49m\u001b[38;5;241;43m=\u001b[39;49m\u001b[43mensure_min_samples\u001b[49m\u001b[43m,\u001b[49m\n\u001b[0;32m   1117\u001b[0m \u001b[43m    \u001b[49m\u001b[43mensure_min_features\u001b[49m\u001b[38;5;241;43m=\u001b[39;49m\u001b[43mensure_min_features\u001b[49m\u001b[43m,\u001b[49m\n\u001b[0;32m   1118\u001b[0m \u001b[43m    \u001b[49m\u001b[43mestimator\u001b[49m\u001b[38;5;241;43m=\u001b[39;49m\u001b[43mestimator\u001b[49m\u001b[43m,\u001b[49m\n\u001b[0;32m   1119\u001b[0m \u001b[43m    \u001b[49m\u001b[43minput_name\u001b[49m\u001b[38;5;241;43m=\u001b[39;49m\u001b[38;5;124;43m\"\u001b[39;49m\u001b[38;5;124;43mX\u001b[39;49m\u001b[38;5;124;43m\"\u001b[39;49m\u001b[43m,\u001b[49m\n\u001b[0;32m   1120\u001b[0m \u001b[43m\u001b[49m\u001b[43m)\u001b[49m\n\u001b[0;32m   1122\u001b[0m y \u001b[38;5;241m=\u001b[39m _check_y(y, multi_output\u001b[38;5;241m=\u001b[39mmulti_output, y_numeric\u001b[38;5;241m=\u001b[39my_numeric, estimator\u001b[38;5;241m=\u001b[39mestimator)\n\u001b[0;32m   1124\u001b[0m check_consistent_length(X, y)\n",
      "File \u001b[1;32m~\\anaconda3new\\lib\\site-packages\\sklearn\\utils\\validation.py:845\u001b[0m, in \u001b[0;36mcheck_array\u001b[1;34m(array, accept_sparse, accept_large_sparse, dtype, order, copy, force_all_finite, ensure_2d, allow_nd, ensure_min_samples, ensure_min_features, estimator, input_name)\u001b[0m\n\u001b[0;32m    843\u001b[0m \u001b[38;5;28;01mif\u001b[39;00m sp\u001b[38;5;241m.\u001b[39missparse(array):\n\u001b[0;32m    844\u001b[0m     _ensure_no_complex_data(array)\n\u001b[1;32m--> 845\u001b[0m     array \u001b[38;5;241m=\u001b[39m \u001b[43m_ensure_sparse_format\u001b[49m\u001b[43m(\u001b[49m\n\u001b[0;32m    846\u001b[0m \u001b[43m        \u001b[49m\u001b[43marray\u001b[49m\u001b[43m,\u001b[49m\n\u001b[0;32m    847\u001b[0m \u001b[43m        \u001b[49m\u001b[43maccept_sparse\u001b[49m\u001b[38;5;241;43m=\u001b[39;49m\u001b[43maccept_sparse\u001b[49m\u001b[43m,\u001b[49m\n\u001b[0;32m    848\u001b[0m \u001b[43m        \u001b[49m\u001b[43mdtype\u001b[49m\u001b[38;5;241;43m=\u001b[39;49m\u001b[43mdtype\u001b[49m\u001b[43m,\u001b[49m\n\u001b[0;32m    849\u001b[0m \u001b[43m        \u001b[49m\u001b[43mcopy\u001b[49m\u001b[38;5;241;43m=\u001b[39;49m\u001b[43mcopy\u001b[49m\u001b[43m,\u001b[49m\n\u001b[0;32m    850\u001b[0m \u001b[43m        \u001b[49m\u001b[43mforce_all_finite\u001b[49m\u001b[38;5;241;43m=\u001b[39;49m\u001b[43mforce_all_finite\u001b[49m\u001b[43m,\u001b[49m\n\u001b[0;32m    851\u001b[0m \u001b[43m        \u001b[49m\u001b[43maccept_large_sparse\u001b[49m\u001b[38;5;241;43m=\u001b[39;49m\u001b[43maccept_large_sparse\u001b[49m\u001b[43m,\u001b[49m\n\u001b[0;32m    852\u001b[0m \u001b[43m        \u001b[49m\u001b[43mestimator_name\u001b[49m\u001b[38;5;241;43m=\u001b[39;49m\u001b[43mestimator_name\u001b[49m\u001b[43m,\u001b[49m\n\u001b[0;32m    853\u001b[0m \u001b[43m        \u001b[49m\u001b[43minput_name\u001b[49m\u001b[38;5;241;43m=\u001b[39;49m\u001b[43minput_name\u001b[49m\u001b[43m,\u001b[49m\n\u001b[0;32m    854\u001b[0m \u001b[43m    \u001b[49m\u001b[43m)\u001b[49m\n\u001b[0;32m    855\u001b[0m \u001b[38;5;28;01melse\u001b[39;00m:\n\u001b[0;32m    856\u001b[0m     \u001b[38;5;66;03m# If np.array(..) gives ComplexWarning, then we convert the warning\u001b[39;00m\n\u001b[0;32m    857\u001b[0m     \u001b[38;5;66;03m# to an error. This is needed because specifying a non complex\u001b[39;00m\n\u001b[0;32m    858\u001b[0m     \u001b[38;5;66;03m# dtype to the function converts complex to real dtype,\u001b[39;00m\n\u001b[0;32m    859\u001b[0m     \u001b[38;5;66;03m# thereby passing the test made in the lines following the scope\u001b[39;00m\n\u001b[0;32m    860\u001b[0m     \u001b[38;5;66;03m# of warnings context manager.\u001b[39;00m\n\u001b[0;32m    861\u001b[0m     \u001b[38;5;28;01mwith\u001b[39;00m warnings\u001b[38;5;241m.\u001b[39mcatch_warnings():\n",
      "File \u001b[1;32m~\\anaconda3new\\lib\\site-packages\\sklearn\\utils\\validation.py:522\u001b[0m, in \u001b[0;36m_ensure_sparse_format\u001b[1;34m(spmatrix, accept_sparse, dtype, copy, force_all_finite, accept_large_sparse, estimator_name, input_name)\u001b[0m\n\u001b[0;32m    519\u001b[0m _check_large_sparse(spmatrix, accept_large_sparse)\n\u001b[0;32m    521\u001b[0m \u001b[38;5;28;01mif\u001b[39;00m accept_sparse \u001b[38;5;129;01mis\u001b[39;00m \u001b[38;5;28;01mFalse\u001b[39;00m:\n\u001b[1;32m--> 522\u001b[0m     \u001b[38;5;28;01mraise\u001b[39;00m \u001b[38;5;167;01mTypeError\u001b[39;00m(\n\u001b[0;32m    523\u001b[0m         \u001b[38;5;124m\"\u001b[39m\u001b[38;5;124mA sparse matrix was passed, but dense \u001b[39m\u001b[38;5;124m\"\u001b[39m\n\u001b[0;32m    524\u001b[0m         \u001b[38;5;124m\"\u001b[39m\u001b[38;5;124mdata is required. Use X.toarray() to \u001b[39m\u001b[38;5;124m\"\u001b[39m\n\u001b[0;32m    525\u001b[0m         \u001b[38;5;124m\"\u001b[39m\u001b[38;5;124mconvert to a dense numpy array.\u001b[39m\u001b[38;5;124m\"\u001b[39m\n\u001b[0;32m    526\u001b[0m     )\n\u001b[0;32m    527\u001b[0m \u001b[38;5;28;01melif\u001b[39;00m \u001b[38;5;28misinstance\u001b[39m(accept_sparse, (\u001b[38;5;28mlist\u001b[39m, \u001b[38;5;28mtuple\u001b[39m)):\n\u001b[0;32m    528\u001b[0m     \u001b[38;5;28;01mif\u001b[39;00m \u001b[38;5;28mlen\u001b[39m(accept_sparse) \u001b[38;5;241m==\u001b[39m \u001b[38;5;241m0\u001b[39m:\n",
      "\u001b[1;31mTypeError\u001b[0m: A sparse matrix was passed, but dense data is required. Use X.toarray() to convert to a dense numpy array."
     ]
    }
   ],
   "source": [
    "from sklearn.svm import LinearSVC, SVC, NuSVC\n",
    "from sklearn.linear_model import SGDClassifier, Perceptron, LogisticRegression, LogisticRegressionCV\n",
    "from sklearn.neural_network import MLPClassifier\n",
    "from sklearn.calibration import CalibratedClassifierCV\n",
    "from sklearn.ensemble import RandomForestClassifier, GradientBoostingClassifier, AdaBoostClassifier, ExtraTreesClassifier, BaggingClassifier\n",
    "from sklearn.naive_bayes import GaussianNB, BernoulliNB\n",
    "from sklearn.semi_supervised import LabelPropagation, LabelSpreading\n",
    "from sklearn.discriminant_analysis import LinearDiscriminantAnalysis, QuadraticDiscriminantAnalysis\n",
    "from sklearn.tree import DecisionTreeClassifier, ExtraTreeClassifier\n",
    "from sklearn.neighbors import KNeighborsClassifier, NearestCentroid\n",
    "from sklearn.linear_model import RidgeClassifier, RidgeClassifierCV, PassiveAggressiveClassifier\n",
    "from sklearn.dummy import DummyClassifier\n",
    "from sklearn.experimental import enable_hist_gradient_boosting\n",
    "from sklearn.ensemble import HistGradientBoostingClassifier\n",
    "from sklearn.datasets import make_classification\n",
    "from sklearn.pipeline import make_pipeline\n",
    "from sklearn.ensemble import StackingClassifier\n",
    "from sklearn.model_selection import train_test_split\n",
    "from sklearn.metrics import classification_report, accuracy_score\n",
    "\n",
    "# Function to save model accuracy\n",
    "MODEL = []\n",
    "TEST = []\n",
    "\n",
    "def eval(model, test1):\n",
    "    MODEL.append(model)\n",
    "    TEST.append(round(test1, 2))\n",
    "\n",
    "# List of classifiers\n",
    "classifiers = [\n",
    "    LinearSVC(),\n",
    "    SGDClassifier(),\n",
    "    MLPClassifier(),\n",
    "    Perceptron(),\n",
    "    LogisticRegression(),\n",
    "    LogisticRegressionCV(),\n",
    "    SVC(),\n",
    "    CalibratedClassifierCV(),\n",
    "    PassiveAggressiveClassifier(),\n",
    "    LabelPropagation(),\n",
    "    BernoulliNB(),\n",
    "    LabelSpreading(),\n",
    "    RandomForestClassifier(),\n",
    "    GradientBoostingClassifier(),\n",
    "    QuadraticDiscriminantAnalysis(),\n",
    "    HistGradientBoostingClassifier(),\n",
    "    RidgeClassifierCV(),\n",
    "    RidgeClassifier(),\n",
    "    AdaBoostClassifier(),\n",
    "    ExtraTreesClassifier(),\n",
    "    KNeighborsClassifier(),\n",
    "    BaggingClassifier(),\n",
    "    LinearDiscriminantAnalysis(),\n",
    "    GaussianNB(),\n",
    "    NuSVC(),\n",
    "    DecisionTreeClassifier(),\n",
    "    NearestCentroid(),\n",
    "    ExtraTreeClassifier(),\n",
    "    DummyClassifier(),\n",
    "]\n",
    "\n",
    "# Split the data into training and testing sets\n",
    "X_train, X_test, y_train, y_test = train_test_split(tfidf_text, label, test_size=0.3, random_state=123)\n",
    "\n",
    "# Train and evaluate each classifier\n",
    "for classifier in classifiers:\n",
    "    model = make_pipeline(classifier)\n",
    "    model.fit(X_train, y_train)\n",
    "    y_pred = model.predict(X_test)\n",
    "    acc = accuracy_score(y_test, y_pred) * 100\n",
    "    eval(classifier.__class__.__name__, acc)\n",
    "\n",
    "# Print the classification report for each model\n",
    "for model, test_acc in zip(MODEL, TEST):\n",
    "    print(model + \" Accuracy: \" + str(test_acc))"
   ]
  },
  {
   "cell_type": "code",
   "execution_count": 19,
   "metadata": {},
   "outputs": [
    {
     "name": "stderr",
     "output_type": "stream",
     "text": [
      "C:\\Users\\dwiah\\anaconda3new\\lib\\site-packages\\sklearn\\discriminant_analysis.py:926: UserWarning: Variables are collinear\n",
      "  warnings.warn(\"Variables are collinear\")\n"
     ]
    },
    {
     "name": "stdout",
     "output_type": "stream",
     "text": [
      "Quadratic Discriminant Analysis:\n",
      "              precision    recall  f1-score   support\n",
      "\n",
      "           0       0.43      0.68      0.53      1452\n",
      "           1       0.72      0.48      0.58      2483\n",
      "\n",
      "    accuracy                           0.55      3935\n",
      "   macro avg       0.58      0.58      0.55      3935\n",
      "weighted avg       0.61      0.55      0.56      3935\n",
      "\n"
     ]
    }
   ],
   "source": [
    "from sklearn.discriminant_analysis import QuadraticDiscriminantAnalysis\n",
    "from sklearn.preprocessing import StandardScaler\n",
    "\n",
    "# ...\n",
    "\n",
    "# Convert the sparse matrices to dense arrays\n",
    "X_train_dense = X_train.toarray()\n",
    "X_test_dense = X_test.toarray()\n",
    "\n",
    "# Scale the dense arrays for better performance\n",
    "scaler = StandardScaler()\n",
    "X_train_scaled = scaler.fit_transform(X_train_dense)\n",
    "X_test_scaled = scaler.transform(X_test_dense)\n",
    "\n",
    "# Quadratic Discriminant Analysis\n",
    "modelQDA = QuadraticDiscriminantAnalysis().fit(X_train_scaled, y_train)\n",
    "pred_qda = modelQDA.predict(X_test_scaled)\n",
    "print(\"Quadratic Discriminant Analysis:\")\n",
    "print(classification_report(pred_qda, y_test))\n"
   ]
  },
  {
   "cell_type": "code",
   "execution_count": 20,
   "metadata": {},
   "outputs": [
    {
     "name": "stderr",
     "output_type": "stream",
     "text": [
      "C:\\Users\\dwiah\\anaconda3new\\lib\\site-packages\\sklearn\\discriminant_analysis.py:926: UserWarning: Variables are collinear\n",
      "  warnings.warn(\"Variables are collinear\")\n"
     ]
    },
    {
     "name": "stdout",
     "output_type": "stream",
     "text": [
      "Quadratic Discriminant Analysis:\n",
      "              precision    recall  f1-score   support\n",
      "\n",
      "           0       0.43      0.68      0.53      1452\n",
      "           1       0.72      0.48      0.58      2483\n",
      "\n",
      "    accuracy                           0.55      3935\n",
      "   macro avg       0.58      0.58      0.55      3935\n",
      "weighted avg       0.61      0.55      0.56      3935\n",
      "\n"
     ]
    }
   ],
   "source": [
    "from sklearn.discriminant_analysis import QuadraticDiscriminantAnalysis\n",
    "from sklearn.preprocessing import StandardScaler\n",
    "\n",
    "# ...\n",
    "\n",
    "# Convert the sparse matrices to dense arrays\n",
    "X_train_dense = X_train.toarray()\n",
    "X_test_dense = X_test.toarray()\n",
    "\n",
    "# Scale the dense arrays for better performance\n",
    "scaler = StandardScaler()\n",
    "X_train_scaled = scaler.fit_transform(X_train_dense)\n",
    "X_test_scaled = scaler.transform(X_test_dense)\n",
    "\n",
    "# Quadratic Discriminant Analysis\n",
    "modelQDA = QuadraticDiscriminantAnalysis().fit(X_train_scaled, y_train)\n",
    "pred_qda = modelQDA.predict(X_test_scaled)\n",
    "print(\"Quadratic Discriminant Analysis:\")\n",
    "print(classification_report(pred_qda, y_test))"
   ]
  },
  {
   "cell_type": "markdown",
   "metadata": {},
   "source": [
    "#### EX\n"
   ]
  },
  {
   "cell_type": "markdown",
   "metadata": {},
   "source": [
    "## Summary EVAL"
   ]
  },
  {
   "cell_type": "code",
   "execution_count": 31,
   "metadata": {},
   "outputs": [
    {
     "data": {
      "text/html": [
       "<div>\n",
       "<style scoped>\n",
       "    .dataframe tbody tr th:only-of-type {\n",
       "        vertical-align: middle;\n",
       "    }\n",
       "\n",
       "    .dataframe tbody tr th {\n",
       "        vertical-align: top;\n",
       "    }\n",
       "\n",
       "    .dataframe thead th {\n",
       "        text-align: right;\n",
       "    }\n",
       "</style>\n",
       "<table border=\"1\" class=\"dataframe\">\n",
       "  <thead>\n",
       "    <tr style=\"text-align: right;\">\n",
       "      <th></th>\n",
       "      <th>Model</th>\n",
       "      <th>Akurasi</th>\n",
       "    </tr>\n",
       "  </thead>\n",
       "  <tbody>\n",
       "    <tr>\n",
       "      <th>4</th>\n",
       "      <td>HistGradient Boosting Classifier</td>\n",
       "      <td>0.83</td>\n",
       "    </tr>\n",
       "    <tr>\n",
       "      <th>11</th>\n",
       "      <td>HistGradient Boosting Classifier</td>\n",
       "      <td>0.83</td>\n",
       "    </tr>\n",
       "    <tr>\n",
       "      <th>15</th>\n",
       "      <td>Multinomial NaiveBayes</td>\n",
       "      <td>0.82</td>\n",
       "    </tr>\n",
       "    <tr>\n",
       "      <th>0</th>\n",
       "      <td>Bagging Classifier</td>\n",
       "      <td>0.81</td>\n",
       "    </tr>\n",
       "    <tr>\n",
       "      <th>7</th>\n",
       "      <td>MLPClassifier</td>\n",
       "      <td>0.75</td>\n",
       "    </tr>\n",
       "    <tr>\n",
       "      <th>14</th>\n",
       "      <td>MLPClassifier</td>\n",
       "      <td>0.75</td>\n",
       "    </tr>\n",
       "    <tr>\n",
       "      <th>1</th>\n",
       "      <td>GaussianNB</td>\n",
       "      <td>0.64</td>\n",
       "    </tr>\n",
       "    <tr>\n",
       "      <th>8</th>\n",
       "      <td>GaussianNB</td>\n",
       "      <td>0.64</td>\n",
       "    </tr>\n",
       "    <tr>\n",
       "      <th>2</th>\n",
       "      <td>LinearDiscriminantAnalysis</td>\n",
       "      <td>0.63</td>\n",
       "    </tr>\n",
       "    <tr>\n",
       "      <th>9</th>\n",
       "      <td>LinearDiscriminantAnalysis</td>\n",
       "      <td>0.63</td>\n",
       "    </tr>\n",
       "    <tr>\n",
       "      <th>3</th>\n",
       "      <td>Quadratic Discriminant Analysis</td>\n",
       "      <td>0.62</td>\n",
       "    </tr>\n",
       "    <tr>\n",
       "      <th>10</th>\n",
       "      <td>Quadratic Discriminant Analysis</td>\n",
       "      <td>0.62</td>\n",
       "    </tr>\n",
       "    <tr>\n",
       "      <th>5</th>\n",
       "      <td>Label Spreading</td>\n",
       "      <td>0.53</td>\n",
       "    </tr>\n",
       "    <tr>\n",
       "      <th>6</th>\n",
       "      <td>Label Propagation</td>\n",
       "      <td>0.53</td>\n",
       "    </tr>\n",
       "    <tr>\n",
       "      <th>12</th>\n",
       "      <td>Label Spreading</td>\n",
       "      <td>0.53</td>\n",
       "    </tr>\n",
       "    <tr>\n",
       "      <th>13</th>\n",
       "      <td>Label Propagation</td>\n",
       "      <td>0.53</td>\n",
       "    </tr>\n",
       "  </tbody>\n",
       "</table>\n",
       "</div>"
      ],
      "text/plain": [
       "                               Model  Akurasi\n",
       "4   HistGradient Boosting Classifier     0.83\n",
       "11  HistGradient Boosting Classifier     0.83\n",
       "15            Multinomial NaiveBayes     0.82\n",
       "0                 Bagging Classifier     0.81\n",
       "7                      MLPClassifier     0.75\n",
       "14                     MLPClassifier     0.75\n",
       "1                         GaussianNB     0.64\n",
       "8                         GaussianNB     0.64\n",
       "2         LinearDiscriminantAnalysis     0.63\n",
       "9         LinearDiscriminantAnalysis     0.63\n",
       "3    Quadratic Discriminant Analysis     0.62\n",
       "10   Quadratic Discriminant Analysis     0.62\n",
       "5                    Label Spreading     0.53\n",
       "6                  Label Propagation     0.53\n",
       "12                   Label Spreading     0.53\n",
       "13                 Label Propagation     0.53"
      ]
     },
     "execution_count": 31,
     "metadata": {},
     "output_type": "execute_result"
    }
   ],
   "source": [
    "results2 = pd.DataFrame({ 'Model': MODEL,\n",
    "                         'Akurasi': TEST})\n",
    "\n",
    "results2.sort_values(by='Akurasi',ascending=False)"
   ]
  },
  {
   "cell_type": "code",
   "execution_count": 13,
   "metadata": {
    "id": "v99NEwO5cF1_"
   },
   "outputs": [],
   "source": [
    "from sklearn.svm import SVC"
   ]
  },
  {
   "cell_type": "code",
   "execution_count": 14,
   "metadata": {
    "id": "5QCpevQIcI5e"
   },
   "outputs": [],
   "source": [
    "modelSVC = SVC().fit(X_train,y_train)"
   ]
  },
  {
   "cell_type": "code",
   "execution_count": 15,
   "metadata": {
    "colab": {
     "base_uri": "https://localhost:8080/"
    },
    "id": "J7_t8AtncKBK",
    "outputId": "542d0e44-15a9-4a0d-8a03-33a6bd470b79"
   },
   "outputs": [
    {
     "name": "stdout",
     "output_type": "stream",
     "text": [
      "              precision    recall  f1-score   support\n",
      "\n",
      "           0       0.90      0.82      0.86      2486\n",
      "           1       0.74      0.85      0.79      1449\n",
      "\n",
      "    accuracy                           0.83      3935\n",
      "   macro avg       0.82      0.84      0.82      3935\n",
      "weighted avg       0.84      0.83      0.83      3935\n",
      "\n"
     ]
    }
   ],
   "source": [
    "pred_svm = modelSVC.predict(X_test)\n",
    "print(classification_report(pred_svm, y_test))"
   ]
  },
  {
   "cell_type": "code",
   "execution_count": 16,
   "metadata": {
    "id": "nOWx6ZDIpxWq"
   },
   "outputs": [],
   "source": [
    "y_test_pred_svc = modelSVC.predict(X_test)\n",
    "y_train_pred_svc = modelSVC.predict(X_train)\n",
    "\n",
    "Svc_ACC =accuracy_score(y_test_pred_svc,y_test)*100\n",
    "eval(\"Support Vector Machine\",Svc_ACC)"
   ]
  },
  {
   "cell_type": "markdown",
   "metadata": {
    "id": "8VqglZ9lpuOf"
   },
   "source": [
    "#### Simpan ke Joblib"
   ]
  },
  {
   "cell_type": "code",
   "execution_count": null,
   "metadata": {
    "colab": {
     "base_uri": "https://localhost:8080/"
    },
    "id": "KK6Xo6KicMMJ",
    "outputId": "209d6854-32d3-481a-e104-55195ce8e545"
   },
   "outputs": [
    {
     "data": {
      "text/plain": [
       "['/content/drive/MyDrive/MTI/NLP/NLP_SVM.pkl']"
      ]
     },
     "execution_count": 94,
     "metadata": {},
     "output_type": "execute_result"
    }
   ],
   "source": [
    "import joblib\n",
    "joblib.dump(modelSVC, '/content/drive/MyDrive/MTI/NLP/NLP_SVM.pkl')"
   ]
  },
  {
   "cell_type": "code",
   "execution_count": null,
   "metadata": {
    "id": "Ek1SS5DccNIP"
   },
   "outputs": [],
   "source": [
    "#joblib_model = joblib.load('/content/drive/MyDrive/MTI/NLP/svm.pkl')\n",
    "#DIGUNAKAN UNTUK ME LOAD MODEL"
   ]
  },
  {
   "cell_type": "code",
   "execution_count": null,
   "metadata": {
    "id": "cB0QHS7vckf3"
   },
   "outputs": [],
   "source": [
    "from sklearn.neighbors import KNeighborsClassifier"
   ]
  },
  {
   "cell_type": "code",
   "execution_count": null,
   "metadata": {
    "id": "UZMaOZlRc1jn"
   },
   "outputs": [],
   "source": [
    "KNN = KNeighborsClassifier(n_neighbors=3)"
   ]
  },
  {
   "cell_type": "code",
   "execution_count": null,
   "metadata": {
    "id": "Pqk-TtIsc8IB"
   },
   "outputs": [],
   "source": [
    "KNNModel = KNN.fit(X_train,y_train)"
   ]
  },
  {
   "cell_type": "code",
   "execution_count": null,
   "metadata": {
    "colab": {
     "base_uri": "https://localhost:8080/"
    },
    "id": "x-lMwwgmdHF7",
    "outputId": "dc71f05d-8ffc-4d73-98f0-52a86eba5ab1"
   },
   "outputs": [
    {
     "name": "stdout",
     "output_type": "stream",
     "text": [
      "              precision    recall  f1-score   support\n",
      "\n",
      "           0       0.15      0.86      0.25       384\n",
      "           1       0.97      0.45      0.62      3551\n",
      "\n",
      "    accuracy                           0.49      3935\n",
      "   macro avg       0.56      0.66      0.43      3935\n",
      "weighted avg       0.89      0.49      0.58      3935\n",
      "\n"
     ]
    }
   ],
   "source": [
    "pred_KNN = KNN.predict(X_test)\n",
    "print(classification_report(pred_KNN, y_test))"
   ]
  },
  {
   "cell_type": "code",
   "execution_count": null,
   "metadata": {
    "id": "sJNkQbR9dJug"
   },
   "outputs": [],
   "source": [
    "y_test_pred_knn = KNNModel.predict(X_test)\n",
    "y_train_pred_knn = KNNModel.predict(X_train)\n",
    "\n",
    "KNN_ACC =accuracy_score(y_test_pred_knn,y_test)*100\n",
    "eval(\"K-Nearest Neighbour\",KNN_ACC)"
   ]
  },
  {
   "cell_type": "code",
   "execution_count": null,
   "metadata": {
    "colab": {
     "base_uri": "https://localhost:8080/"
    },
    "id": "aBJilqgIOulh",
    "outputId": "23628ed0-590d-4ac6-db13-28758b05e6f7"
   },
   "outputs": [
    {
     "data": {
      "text/plain": [
       "['/content/drive/MyDrive/MTI/NLP/NLP_KNN.pkl']"
      ]
     },
     "execution_count": 29,
     "metadata": {},
     "output_type": "execute_result"
    }
   ],
   "source": [
    "import joblib\n",
    "joblib.dump(KNNModel, '/content/drive/MyDrive/MTI/NLP/NLP_KNN.pkl')"
   ]
  },
  {
   "cell_type": "code",
   "execution_count": null,
   "metadata": {
    "id": "TYzrMzsYdyX3"
   },
   "outputs": [],
   "source": [
    "from sklearn.ensemble import RandomForestClassifier"
   ]
  },
  {
   "cell_type": "code",
   "execution_count": null,
   "metadata": {
    "colab": {
     "base_uri": "https://localhost:8080/"
    },
    "id": "p1IeGPPJdvwV",
    "outputId": "2bc34a30-5303-4d4d-aa54-763c186c2d14"
   },
   "outputs": [
    {
     "name": "stdout",
     "output_type": "stream",
     "text": [
      "              precision    recall  f1-score   support\n",
      "\n",
      "           0       0.84      0.87      0.85      2268\n",
      "           1       0.81      0.78      0.79      1667\n",
      "\n",
      "    accuracy                           0.83      3935\n",
      "   macro avg       0.83      0.82      0.82      3935\n",
      "weighted avg       0.83      0.83      0.83      3935\n",
      "\n"
     ]
    }
   ],
   "source": [
    "# Split the dataset into training and testing sets\n",
    "#X_train, X_test, y_train, y_test = train_test_split(tfidf_text, label, test_size = 0.3, random_state = 123)\n",
    "\n",
    "# Create a Random Forest classifier with 100 trees\n",
    "clf = RandomForestClassifier(n_estimators=100)\n",
    "\n",
    "# Fit the classifier on the training data\n",
    "clf.fit(X_train, y_train)\n",
    "\n",
    "# Make predictions on the testing data\n",
    "y_pred = clf.predict(X_test)\n",
    "\n",
    "# Generate a classification report\n",
    "print(classification_report(y_test, y_pred))\n"
   ]
  },
  {
   "cell_type": "code",
   "execution_count": null,
   "metadata": {
    "id": "gLmE-3B2d1Ev"
   },
   "outputs": [],
   "source": [
    "y_test_pred_clf = clf.predict(X_test)\n",
    "y_train_pred_clf = clf.predict(X_train)\n",
    "\n",
    "CLF_ACC =accuracy_score(y_test_pred_clf,y_test)*100\n",
    "eval(\"Random Forest\",CLF_ACC)"
   ]
  },
  {
   "cell_type": "code",
   "execution_count": null,
   "metadata": {
    "colab": {
     "base_uri": "https://localhost:8080/"
    },
    "id": "8ju_ecsnO1l5",
    "outputId": "2dd7a44c-27db-42bc-82ea-56eb28ba6000"
   },
   "outputs": [
    {
     "data": {
      "text/plain": [
       "['/content/drive/MyDrive/MTI/NLP/NLP_RandomForest.pkl']"
      ]
     },
     "execution_count": 33,
     "metadata": {},
     "output_type": "execute_result"
    }
   ],
   "source": [
    "import joblib\n",
    "joblib.dump(clf, '/content/drive/MyDrive/MTI/NLP/NLP_RandomForest.pkl')"
   ]
  },
  {
   "cell_type": "code",
   "execution_count": null,
   "metadata": {
    "id": "S9Jt_a2KfF9f"
   },
   "outputs": [],
   "source": [
    "from sklearn.naive_bayes import MultinomialNB"
   ]
  },
  {
   "cell_type": "code",
   "execution_count": null,
   "metadata": {
    "colab": {
     "base_uri": "https://localhost:8080/"
    },
    "id": "DwQFSwR2fO78",
    "outputId": "bfb2bc6d-4d20-4bd6-c6ca-6f26cd68dd88"
   },
   "outputs": [
    {
     "name": "stdout",
     "output_type": "stream",
     "text": [
      "              precision    recall  f1-score   support\n",
      "\n",
      "           0       0.81      0.89      0.85      2268\n",
      "           1       0.82      0.72      0.77      1667\n",
      "\n",
      "    accuracy                           0.82      3935\n",
      "   macro avg       0.82      0.80      0.81      3935\n",
      "weighted avg       0.82      0.82      0.81      3935\n",
      "\n"
     ]
    }
   ],
   "source": [
    "# Split the data into training and testing sets\n",
    "#X_train, X_test, y_train, y_test = train_test_split(tfidf_text, label, test_size = 0.3, random_state = 123)\n",
    "\n",
    "# Train the Naive Bayes model\n",
    "nb = MultinomialNB()\n",
    "nb.fit(X_train, y_train)\n",
    "\n",
    "# Make predictions on the test data\n",
    "y_pred = nb.predict(X_test)\n",
    "\n",
    "# Print the classification report\n",
    "print(classification_report(y_test, y_pred))\n"
   ]
  },
  {
   "cell_type": "code",
   "execution_count": null,
   "metadata": {
    "id": "CpCxZ6mOEsV9"
   },
   "outputs": [],
   "source": [
    "y_test_pred_nb = nb.predict(X_test)\n",
    "y_train_pred_nb = nb.predict(X_train)\n",
    "\n",
    "NB_ACC =accuracy_score(y_test_pred_nb,y_test)*100\n",
    "eval(\"Naive Bayes\",NB_ACC)"
   ]
  },
  {
   "cell_type": "code",
   "execution_count": null,
   "metadata": {
    "colab": {
     "base_uri": "https://localhost:8080/"
    },
    "id": "IomcrtKhO_bG",
    "outputId": "dfd6736f-3657-4422-e5d4-0fc6c4dc4fe7"
   },
   "outputs": [
    {
     "data": {
      "text/plain": [
       "['/content/drive/MyDrive/MTI/NLP/NLP_NB.pkl']"
      ]
     },
     "execution_count": 37,
     "metadata": {},
     "output_type": "execute_result"
    }
   ],
   "source": [
    "import joblib\n",
    "joblib.dump(nb, '/content/drive/MyDrive/MTI/NLP/NLP_NB.pkl')"
   ]
  },
  {
   "cell_type": "code",
   "execution_count": null,
   "metadata": {
    "id": "qGpc-BNefgRr"
   },
   "outputs": [],
   "source": [
    "from sklearn.tree import DecisionTreeClassifier"
   ]
  },
  {
   "cell_type": "code",
   "execution_count": null,
   "metadata": {
    "colab": {
     "base_uri": "https://localhost:8080/"
    },
    "id": "bbT2fR5pfhSz",
    "outputId": "b6c7baeb-4ee7-47d7-a402-825f1c3831f0"
   },
   "outputs": [
    {
     "name": "stdout",
     "output_type": "stream",
     "text": [
      "              precision    recall  f1-score   support\n",
      "\n",
      "           0       0.82      0.77      0.80      2268\n",
      "           1       0.71      0.77      0.74      1667\n",
      "\n",
      "    accuracy                           0.77      3935\n",
      "   macro avg       0.77      0.77      0.77      3935\n",
      "weighted avg       0.78      0.77      0.77      3935\n",
      "\n"
     ]
    }
   ],
   "source": [
    "# Split the data into training and testing sets\n",
    "#X_train, X_test, y_train, y_test = train_test_split(tfidf_text, label, test_size = 0.3, random_state = 123)\n",
    "\n",
    "# Train the Decision Tree model\n",
    "dt = DecisionTreeClassifier()\n",
    "dt.fit(X_train, y_train)\n",
    "\n",
    "# Make predictions on the test data\n",
    "y_pred = dt.predict(X_test)\n",
    "\n",
    "# Print the classification report\n",
    "print(classification_report(y_test, y_pred))"
   ]
  },
  {
   "cell_type": "code",
   "execution_count": null,
   "metadata": {
    "id": "rTVRYCRaFDrX"
   },
   "outputs": [],
   "source": [
    "y_test_pred_dt = dt.predict(X_test)\n",
    "y_train_pred_dt = dt.predict(X_train)\n",
    "\n",
    "DT_ACC =accuracy_score(y_test_pred_dt,y_test)*100\n",
    "eval(\"Decission Tree\",DT_ACC)"
   ]
  },
  {
   "cell_type": "code",
   "execution_count": null,
   "metadata": {
    "colab": {
     "base_uri": "https://localhost:8080/"
    },
    "id": "rhIxFAr6PG9r",
    "outputId": "7e38e349-d009-487d-a8e0-22b366a4767a"
   },
   "outputs": [
    {
     "data": {
      "text/plain": [
       "['/content/drive/MyDrive/MTI/NLP/NLP_DecissionTree.pkl']"
      ]
     },
     "execution_count": 41,
     "metadata": {},
     "output_type": "execute_result"
    }
   ],
   "source": [
    "import joblib\n",
    "joblib.dump(dt, '/content/drive/MyDrive/MTI/NLP/NLP_DecissionTree.pkl')"
   ]
  },
  {
   "cell_type": "code",
   "execution_count": null,
   "metadata": {
    "id": "MOAr3EbMFQnN"
   },
   "outputs": [],
   "source": [
    "from sklearn.ensemble import GradientBoostingClassifier"
   ]
  },
  {
   "cell_type": "code",
   "execution_count": null,
   "metadata": {
    "colab": {
     "base_uri": "https://localhost:8080/"
    },
    "id": "qBJ65BKVf_Xx",
    "outputId": "2dab33a2-7483-480e-bf65-4eb06b4c3d27"
   },
   "outputs": [
    {
     "name": "stdout",
     "output_type": "stream",
     "text": [
      "              precision    recall  f1-score   support\n",
      "\n",
      "           0       0.82      0.77      0.80      2268\n",
      "           1       0.71      0.77      0.74      1667\n",
      "\n",
      "    accuracy                           0.77      3935\n",
      "   macro avg       0.77      0.77      0.77      3935\n",
      "weighted avg       0.78      0.77      0.77      3935\n",
      "\n"
     ]
    }
   ],
   "source": [
    "# Split the data into training and testing sets\n",
    "#X_train, X_test, y_train, y_test = train_test_split(tfidf_text, label, test_size = 0.3, random_state = 123)\n",
    "\n",
    "\n",
    "# Train the Gradient Boosting model\n",
    "gb = GradientBoostingClassifier()\n",
    "gb.fit(X_train, y_train)\n",
    "\n",
    "\n",
    "# Print the classification report\n",
    "print(classification_report(y_test, y_pred))"
   ]
  },
  {
   "cell_type": "code",
   "execution_count": null,
   "metadata": {
    "id": "iPkdux_xFTXH"
   },
   "outputs": [],
   "source": [
    "y_test_pred_gb = gb.predict(X_test)\n",
    "y_train_pred_gb = gb.predict(X_train)\n",
    "\n",
    "GB_ACC =accuracy_score(y_test_pred_gb,y_test)*100\n",
    "eval(\"Gradient Boost\",GB_ACC)"
   ]
  },
  {
   "cell_type": "code",
   "execution_count": null,
   "metadata": {
    "colab": {
     "base_uri": "https://localhost:8080/"
    },
    "id": "yTbCrPs1PNLd",
    "outputId": "4a056162-d8a7-4da8-b53c-4808b58ca29c"
   },
   "outputs": [
    {
     "data": {
      "text/plain": [
       "['/content/drive/MyDrive/MTI/NLP/NLP_GB.pkl']"
      ]
     },
     "execution_count": 45,
     "metadata": {},
     "output_type": "execute_result"
    }
   ],
   "source": [
    "import joblib\n",
    "joblib.dump(gb, '/content/drive/MyDrive/MTI/NLP/NLP_GB.pkl')"
   ]
  },
  {
   "cell_type": "code",
   "execution_count": null,
   "metadata": {
    "id": "Ycquz73-j-Op"
   },
   "outputs": [],
   "source": [
    "from sklearn.ensemble import AdaBoostClassifier\n",
    "from sklearn.tree import DecisionTreeClassifier"
   ]
  },
  {
   "cell_type": "code",
   "execution_count": null,
   "metadata": {
    "colab": {
     "base_uri": "https://localhost:8080/"
    },
    "id": "8cDNJhQ1jqVe",
    "outputId": "345e962f-beb4-46e6-fbb9-ee279d0ccc90"
   },
   "outputs": [
    {
     "name": "stderr",
     "output_type": "stream",
     "text": [
      "/usr/local/lib/python3.9/dist-packages/sklearn/ensemble/_base.py:166: FutureWarning: `base_estimator` was renamed to `estimator` in version 1.2 and will be removed in 1.4.\n",
      "  warnings.warn(\n"
     ]
    },
    {
     "name": "stdout",
     "output_type": "stream",
     "text": [
      "              precision    recall  f1-score   support\n",
      "\n",
      "           0       0.82      0.84      0.83      2268\n",
      "           1       0.78      0.75      0.76      1667\n",
      "\n",
      "    accuracy                           0.80      3935\n",
      "   macro avg       0.80      0.80      0.80      3935\n",
      "weighted avg       0.80      0.80      0.80      3935\n",
      "\n"
     ]
    }
   ],
   "source": [
    "#X_train, X_test, y_train, y_test = train_test_split(text, label, test_size=0.2, random_state=42)\n",
    "\n",
    "dt = DecisionTreeClassifier(max_depth=1)\n",
    "clf_A = AdaBoostClassifier(base_estimator=dt, n_estimators=500)\n",
    "\n",
    "clf_A.fit(X_train, y_train)\n",
    "y_pred = clf_A.predict(X_test)\n",
    "\n",
    "print(classification_report(y_test, y_pred))"
   ]
  },
  {
   "cell_type": "code",
   "execution_count": null,
   "metadata": {
    "id": "8GnOwqbIFw90"
   },
   "outputs": [],
   "source": [
    "y_test_pred_ab = clf_A.predict(X_test)\n",
    "y_train_pred_ab = clf_A.predict(X_train)\n",
    "\n",
    "GB_AB =accuracy_score(y_test_pred_ab,y_test)*100\n",
    "eval(\"Gradient Boost\",GB_AB)"
   ]
  },
  {
   "cell_type": "code",
   "execution_count": null,
   "metadata": {
    "colab": {
     "base_uri": "https://localhost:8080/"
    },
    "id": "HmK-O4WKPekb",
    "outputId": "03d2f69d-266a-48d8-c2d8-63f75fc55ead"
   },
   "outputs": [
    {
     "data": {
      "text/plain": [
       "['/content/drive/MyDrive/MTI/NLP/NLP_ADAB.pkl']"
      ]
     },
     "execution_count": 51,
     "metadata": {},
     "output_type": "execute_result"
    }
   ],
   "source": [
    "import joblib\n",
    "joblib.dump(clf_A, '/content/drive/MyDrive/MTI/NLP/NLP_ADAB.pkl')"
   ]
  },
  {
   "cell_type": "markdown",
   "metadata": {
    "id": "_8LTytWKMv6s"
   },
   "source": [
    "### 8.XGB Classifier"
   ]
  },
  {
   "cell_type": "code",
   "execution_count": null,
   "metadata": {
    "id": "vT3GG16aMyNl"
   },
   "outputs": [],
   "source": [
    "from xgboost import XGBClassifier"
   ]
  },
  {
   "cell_type": "code",
   "execution_count": null,
   "metadata": {
    "colab": {
     "base_uri": "https://localhost:8080/",
     "height": 248
    },
    "id": "qt9gPVyrM0fR",
    "outputId": "94c79a9e-0f53-4af6-c675-08dd537fc24a"
   },
   "outputs": [
    {
     "data": {
      "text/html": [
       "<style>#sk-container-id-1 {color: black;background-color: white;}#sk-container-id-1 pre{padding: 0;}#sk-container-id-1 div.sk-toggleable {background-color: white;}#sk-container-id-1 label.sk-toggleable__label {cursor: pointer;display: block;width: 100%;margin-bottom: 0;padding: 0.3em;box-sizing: border-box;text-align: center;}#sk-container-id-1 label.sk-toggleable__label-arrow:before {content: \"▸\";float: left;margin-right: 0.25em;color: #696969;}#sk-container-id-1 label.sk-toggleable__label-arrow:hover:before {color: black;}#sk-container-id-1 div.sk-estimator:hover label.sk-toggleable__label-arrow:before {color: black;}#sk-container-id-1 div.sk-toggleable__content {max-height: 0;max-width: 0;overflow: hidden;text-align: left;background-color: #f0f8ff;}#sk-container-id-1 div.sk-toggleable__content pre {margin: 0.2em;color: black;border-radius: 0.25em;background-color: #f0f8ff;}#sk-container-id-1 input.sk-toggleable__control:checked~div.sk-toggleable__content {max-height: 200px;max-width: 100%;overflow: auto;}#sk-container-id-1 input.sk-toggleable__control:checked~label.sk-toggleable__label-arrow:before {content: \"▾\";}#sk-container-id-1 div.sk-estimator input.sk-toggleable__control:checked~label.sk-toggleable__label {background-color: #d4ebff;}#sk-container-id-1 div.sk-label input.sk-toggleable__control:checked~label.sk-toggleable__label {background-color: #d4ebff;}#sk-container-id-1 input.sk-hidden--visually {border: 0;clip: rect(1px 1px 1px 1px);clip: rect(1px, 1px, 1px, 1px);height: 1px;margin: -1px;overflow: hidden;padding: 0;position: absolute;width: 1px;}#sk-container-id-1 div.sk-estimator {font-family: monospace;background-color: #f0f8ff;border: 1px dotted black;border-radius: 0.25em;box-sizing: border-box;margin-bottom: 0.5em;}#sk-container-id-1 div.sk-estimator:hover {background-color: #d4ebff;}#sk-container-id-1 div.sk-parallel-item::after {content: \"\";width: 100%;border-bottom: 1px solid gray;flex-grow: 1;}#sk-container-id-1 div.sk-label:hover label.sk-toggleable__label {background-color: #d4ebff;}#sk-container-id-1 div.sk-serial::before {content: \"\";position: absolute;border-left: 1px solid gray;box-sizing: border-box;top: 0;bottom: 0;left: 50%;z-index: 0;}#sk-container-id-1 div.sk-serial {display: flex;flex-direction: column;align-items: center;background-color: white;padding-right: 0.2em;padding-left: 0.2em;position: relative;}#sk-container-id-1 div.sk-item {position: relative;z-index: 1;}#sk-container-id-1 div.sk-parallel {display: flex;align-items: stretch;justify-content: center;background-color: white;position: relative;}#sk-container-id-1 div.sk-item::before, #sk-container-id-1 div.sk-parallel-item::before {content: \"\";position: absolute;border-left: 1px solid gray;box-sizing: border-box;top: 0;bottom: 0;left: 50%;z-index: -1;}#sk-container-id-1 div.sk-parallel-item {display: flex;flex-direction: column;z-index: 1;position: relative;background-color: white;}#sk-container-id-1 div.sk-parallel-item:first-child::after {align-self: flex-end;width: 50%;}#sk-container-id-1 div.sk-parallel-item:last-child::after {align-self: flex-start;width: 50%;}#sk-container-id-1 div.sk-parallel-item:only-child::after {width: 0;}#sk-container-id-1 div.sk-dashed-wrapped {border: 1px dashed gray;margin: 0 0.4em 0.5em 0.4em;box-sizing: border-box;padding-bottom: 0.4em;background-color: white;}#sk-container-id-1 div.sk-label label {font-family: monospace;font-weight: bold;display: inline-block;line-height: 1.2em;}#sk-container-id-1 div.sk-label-container {text-align: center;}#sk-container-id-1 div.sk-container {/* jupyter's `normalize.less` sets `[hidden] { display: none; }` but bootstrap.min.css set `[hidden] { display: none !important; }` so we also need the `!important` here to be able to override the default hidden behavior on the sphinx rendered scikit-learn.org. See: https://github.com/scikit-learn/scikit-learn/issues/21755 */display: inline-block !important;position: relative;}#sk-container-id-1 div.sk-text-repr-fallback {display: none;}</style><div id=\"sk-container-id-1\" class=\"sk-top-container\"><div class=\"sk-text-repr-fallback\"><pre>XGBClassifier(base_score=None, booster=None, callbacks=None,\n",
       "              colsample_bylevel=None, colsample_bynode=None,\n",
       "              colsample_bytree=None, early_stopping_rounds=None,\n",
       "              enable_categorical=False, eval_metric=None, feature_types=None,\n",
       "              gamma=None, gpu_id=None, grow_policy=None, importance_type=None,\n",
       "              interaction_constraints=None, learning_rate=0.1, max_bin=None,\n",
       "              max_cat_threshold=None, max_cat_to_onehot=None,\n",
       "              max_delta_step=None, max_depth=6, max_leaves=None,\n",
       "              min_child_weight=None, missing=nan, monotone_constraints=None,\n",
       "              n_estimators=100, n_jobs=None, num_parallel_tree=None,\n",
       "              predictor=None, random_state=None, ...)</pre><b>In a Jupyter environment, please rerun this cell to show the HTML representation or trust the notebook. <br />On GitHub, the HTML representation is unable to render, please try loading this page with nbviewer.org.</b></div><div class=\"sk-container\" hidden><div class=\"sk-item\"><div class=\"sk-estimator sk-toggleable\"><input class=\"sk-toggleable__control sk-hidden--visually\" id=\"sk-estimator-id-1\" type=\"checkbox\" checked><label for=\"sk-estimator-id-1\" class=\"sk-toggleable__label sk-toggleable__label-arrow\">XGBClassifier</label><div class=\"sk-toggleable__content\"><pre>XGBClassifier(base_score=None, booster=None, callbacks=None,\n",
       "              colsample_bylevel=None, colsample_bynode=None,\n",
       "              colsample_bytree=None, early_stopping_rounds=None,\n",
       "              enable_categorical=False, eval_metric=None, feature_types=None,\n",
       "              gamma=None, gpu_id=None, grow_policy=None, importance_type=None,\n",
       "              interaction_constraints=None, learning_rate=0.1, max_bin=None,\n",
       "              max_cat_threshold=None, max_cat_to_onehot=None,\n",
       "              max_delta_step=None, max_depth=6, max_leaves=None,\n",
       "              min_child_weight=None, missing=nan, monotone_constraints=None,\n",
       "              n_estimators=100, n_jobs=None, num_parallel_tree=None,\n",
       "              predictor=None, random_state=None, ...)</pre></div></div></div></div></div>"
      ],
      "text/plain": [
       "XGBClassifier(base_score=None, booster=None, callbacks=None,\n",
       "              colsample_bylevel=None, colsample_bynode=None,\n",
       "              colsample_bytree=None, early_stopping_rounds=None,\n",
       "              enable_categorical=False, eval_metric=None, feature_types=None,\n",
       "              gamma=None, gpu_id=None, grow_policy=None, importance_type=None,\n",
       "              interaction_constraints=None, learning_rate=0.1, max_bin=None,\n",
       "              max_cat_threshold=None, max_cat_to_onehot=None,\n",
       "              max_delta_step=None, max_depth=6, max_leaves=None,\n",
       "              min_child_weight=None, missing=nan, monotone_constraints=None,\n",
       "              n_estimators=100, n_jobs=None, num_parallel_tree=None,\n",
       "              predictor=None, random_state=None, ...)"
      ]
     },
     "execution_count": 53,
     "metadata": {},
     "output_type": "execute_result"
    }
   ],
   "source": [
    "# train XGBoost classifier\n",
    "xgb = XGBClassifier(n_estimators=100, max_depth=6, learning_rate=0.1)\n",
    "xgb.fit(X_train, y_train)"
   ]
  },
  {
   "cell_type": "code",
   "execution_count": null,
   "metadata": {
    "id": "lotsty1mNFFI"
   },
   "outputs": [],
   "source": [
    "y_pred = xgb.predict(X_test)"
   ]
  },
  {
   "cell_type": "code",
   "execution_count": null,
   "metadata": {
    "colab": {
     "base_uri": "https://localhost:8080/"
    },
    "id": "nuCgN6KxM-8m",
    "outputId": "2964336f-7bcc-4ada-c2c8-e831f7f3e111"
   },
   "outputs": [
    {
     "name": "stdout",
     "output_type": "stream",
     "text": [
      "              precision    recall  f1-score   support\n",
      "\n",
      "           0       0.77      0.92      0.84      2268\n",
      "           1       0.86      0.63      0.73      1667\n",
      "\n",
      "    accuracy                           0.80      3935\n",
      "   macro avg       0.82      0.78      0.78      3935\n",
      "weighted avg       0.81      0.80      0.79      3935\n",
      "\n"
     ]
    }
   ],
   "source": [
    "print(classification_report(y_test, y_pred))"
   ]
  },
  {
   "cell_type": "code",
   "execution_count": null,
   "metadata": {
    "colab": {
     "base_uri": "https://localhost:8080/"
    },
    "id": "5UBRcq4OM7K3",
    "outputId": "3df90998-07a3-461b-8b45-9c4d13bbaec6"
   },
   "outputs": [
    {
     "name": "stdout",
     "output_type": "stream",
     "text": [
      "Test accuracy: 0.7994917407878018\n"
     ]
    }
   ],
   "source": [
    "# evaluate model\n",
    "accuracyXGB = xgb.score(X_test, y_test)\n",
    "print(f'Test accuracy: {accuracyXGB}')"
   ]
  },
  {
   "cell_type": "code",
   "execution_count": null,
   "metadata": {
    "id": "iiUCYLwMNMcc"
   },
   "outputs": [],
   "source": [
    "y_test_pred_xgb = xgb.predict(X_test)\n",
    "y_train_pred_xgb = xgb.predict(X_train)\n",
    "\n",
    "ACC_XGB =accuracy_score(y_test_pred_xgb,y_test)*100\n",
    "eval(\"XGBoost\",ACC_XGB)"
   ]
  },
  {
   "cell_type": "code",
   "execution_count": null,
   "metadata": {
    "colab": {
     "base_uri": "https://localhost:8080/"
    },
    "id": "ovFkVnhVPihY",
    "outputId": "a78b7f22-e3f1-4c21-b536-5bcee9a875c8"
   },
   "outputs": [
    {
     "data": {
      "text/plain": [
       "['/content/drive/MyDrive/MTI/NLP/NLP_XGB.pkl']"
      ]
     },
     "execution_count": 58,
     "metadata": {},
     "output_type": "execute_result"
    }
   ],
   "source": [
    "import joblib\n",
    "joblib.dump(xgb, '/content/drive/MyDrive/MTI/NLP/NLP_XGB.pkl')"
   ]
  },
  {
   "cell_type": "markdown",
   "metadata": {
    "id": "N1WFWaZ6GQNN"
   },
   "source": [
    "### PERBANDINGAN AKURASI MODEL ML"
   ]
  },
  {
   "cell_type": "code",
   "execution_count": 21,
   "metadata": {
    "colab": {
     "base_uri": "https://localhost:8080/",
     "height": 300
    },
    "id": "XJNCHDhmGTGY",
    "outputId": "b45f6292-b5b3-4a99-e3a5-33c1e88a5669"
   },
   "outputs": [
    {
     "data": {
      "text/html": [
       "<div>\n",
       "<style scoped>\n",
       "    .dataframe tbody tr th:only-of-type {\n",
       "        vertical-align: middle;\n",
       "    }\n",
       "\n",
       "    .dataframe tbody tr th {\n",
       "        vertical-align: top;\n",
       "    }\n",
       "\n",
       "    .dataframe thead th {\n",
       "        text-align: right;\n",
       "    }\n",
       "</style>\n",
       "<table border=\"1\" class=\"dataframe\">\n",
       "  <thead>\n",
       "    <tr style=\"text-align: right;\">\n",
       "      <th></th>\n",
       "      <th>Model</th>\n",
       "      <th>Akurasi</th>\n",
       "    </tr>\n",
       "  </thead>\n",
       "  <tbody>\n",
       "    <tr>\n",
       "      <th>6</th>\n",
       "      <td>SVC</td>\n",
       "      <td>83.23</td>\n",
       "    </tr>\n",
       "    <tr>\n",
       "      <th>5</th>\n",
       "      <td>LogisticRegressionCV</td>\n",
       "      <td>82.54</td>\n",
       "    </tr>\n",
       "    <tr>\n",
       "      <th>4</th>\n",
       "      <td>LogisticRegression</td>\n",
       "      <td>82.49</td>\n",
       "    </tr>\n",
       "    <tr>\n",
       "      <th>1</th>\n",
       "      <td>SGDClassifier</td>\n",
       "      <td>82.29</td>\n",
       "    </tr>\n",
       "    <tr>\n",
       "      <th>7</th>\n",
       "      <td>CalibratedClassifierCV</td>\n",
       "      <td>82.24</td>\n",
       "    </tr>\n",
       "    <tr>\n",
       "      <th>0</th>\n",
       "      <td>LinearSVC</td>\n",
       "      <td>81.91</td>\n",
       "    </tr>\n",
       "    <tr>\n",
       "      <th>8</th>\n",
       "      <td>PassiveAggressiveClassifier</td>\n",
       "      <td>77.28</td>\n",
       "    </tr>\n",
       "    <tr>\n",
       "      <th>3</th>\n",
       "      <td>Perceptron</td>\n",
       "      <td>76.01</td>\n",
       "    </tr>\n",
       "    <tr>\n",
       "      <th>2</th>\n",
       "      <td>MLPClassifier</td>\n",
       "      <td>74.41</td>\n",
       "    </tr>\n",
       "  </tbody>\n",
       "</table>\n",
       "</div>"
      ],
      "text/plain": [
       "                         Model  Akurasi\n",
       "6                          SVC    83.23\n",
       "5         LogisticRegressionCV    82.54\n",
       "4           LogisticRegression    82.49\n",
       "1                SGDClassifier    82.29\n",
       "7       CalibratedClassifierCV    82.24\n",
       "0                    LinearSVC    81.91\n",
       "8  PassiveAggressiveClassifier    77.28\n",
       "3                   Perceptron    76.01\n",
       "2                MLPClassifier    74.41"
      ]
     },
     "execution_count": 21,
     "metadata": {},
     "output_type": "execute_result"
    }
   ],
   "source": [
    "results2 = pd.DataFrame({ 'Model': MODEL,\n",
    "                         'Akurasi': TEST})\n",
    "\n",
    "results2.sort_values(by='Akurasi',ascending=False)"
   ]
  },
  {
   "cell_type": "markdown",
   "metadata": {
    "id": "0ZyM3Kx0gKzH",
    "tags": []
   },
   "source": [
    "## Neural Network"
   ]
  },
  {
   "cell_type": "code",
   "execution_count": 94,
   "metadata": {
    "colab": {
     "base_uri": "https://localhost:8080/",
     "height": 108
    },
    "id": "agGDBK25mQBR",
    "outputId": "5edfadbd-e243-40d3-acaf-241f15a5c565"
   },
   "outputs": [
    {
     "data": {
      "text/plain": [
       "'\\ntokenizer = Tokenizer(num_words=5000)\\ntokenizer.fit_on_texts(X_train)\\n\\nX_train = tokenizer.texts_to_sequences(X_train)\\nX_test = tokenizer.texts_to_sequences(X_test)\\n\\nvocab_size = len(tokenizer.word_index) + 1\\n\\nmax_len = 100\\n\\nX_train = pad_sequences(X_train, padding=\\'post\\', maxlen=max_len)\\nX_test = pad_sequences(X_test, padding=\\'post\\', maxlen=max_len)\\n\\nmodel = Sequential()\\nmodel.add(Dense(64, input_shape=(max_len,), activation=\\'relu\\'))\\nmodel.add(Dropout(0.5))\\nmodel.add(Dense(1, activation=\\'sigmoid\\'))\\n\\nmodel.compile(loss=\\'binary_crossentropy\\', optimizer=\\'adam\\', metrics=[\\'accuracy\\'])\\n\\nhistory = model.fit(X_train, y_train, epochs=10, batch_size=32, validation_data=(X_test, y_test))\\n\\nscore = model.evaluate(X_test, y_test, verbose=0)\\nprint(\"Test loss:\", score[0])\\nprint(\"Test accuracy:\", score[1])\\n'"
      ]
     },
     "execution_count": 94,
     "metadata": {},
     "output_type": "execute_result"
    }
   ],
   "source": [
    "#X_train, X_test, y_train, y_test = train_test_split(text, label, test_size=0.2, random_state=42)\n",
    "\"\"\"\n",
    "tokenizer = Tokenizer(num_words=5000)\n",
    "tokenizer.fit_on_texts(X_train)\n",
    "\n",
    "X_train = tokenizer.texts_to_sequences(X_train)\n",
    "X_test = tokenizer.texts_to_sequences(X_test)\n",
    "\n",
    "vocab_size = len(tokenizer.word_index) + 1\n",
    "\n",
    "max_len = 100\n",
    "\n",
    "X_train = pad_sequences(X_train, padding='post', maxlen=max_len)\n",
    "X_test = pad_sequences(X_test, padding='post', maxlen=max_len)\n",
    "\n",
    "model = Sequential()\n",
    "model.add(Dense(64, input_shape=(max_len,), activation='relu'))\n",
    "model.add(Dropout(0.5))\n",
    "model.add(Dense(1, activation='sigmoid'))\n",
    "\n",
    "model.compile(loss='binary_crossentropy', optimizer='adam', metrics=['accuracy'])\n",
    "\n",
    "history = model.fit(X_train, y_train, epochs=10, batch_size=32, validation_data=(X_test, y_test))\n",
    "\n",
    "score = model.evaluate(X_test, y_test, verbose=0)\n",
    "print(\"Test loss:\", score[0])\n",
    "print(\"Test accuracy:\", score[1])\n",
    "\"\"\""
   ]
  },
  {
   "cell_type": "markdown",
   "metadata": {
    "id": "l88nFG0EmBWY",
    "tags": []
   },
   "source": [
    "### NN"
   ]
  },
  {
   "cell_type": "code",
   "execution_count": 36,
   "metadata": {
    "id": "_MwjrUQXiUsW"
   },
   "outputs": [],
   "source": [
    "import pandas as pd\n",
    "from keras.models import Sequential\n",
    "from keras.layers import Dense, Dropout\n",
    "from scipy.sparse import csr_matrix\n",
    "import tensorflow as tf"
   ]
  },
  {
   "cell_type": "code",
   "execution_count": 37,
   "metadata": {
    "id": "iba1AfsVgMbm"
   },
   "outputs": [],
   "source": [
    "# Split the data into training and testing sets\n",
    "#X_train, X_test, y_train, y_test = train_test_split(tfidf_text, label,  test_size=0.2, random_state=42)\n",
    "\n",
    "# Create a TfidfVectorizer object\n",
    "#vectorizer = TfidfVectorizer()\n",
    "\n",
    "# Transform the training data using the vectorizer and sort the indices\n",
    "X_train.sort_indices()\n",
    "\n",
    "# Define the neural network model\n",
    "modelnn = Sequential()\n",
    "modelnn.add(Dense(64, input_dim=X_train.shape[1], activation='relu'))\n",
    "modelnn.add(Dropout(0.5))\n",
    "modelnn.add(Dense(1, activation='sigmoid'))\n",
    "\n",
    "# Compile the model\n",
    "modelnn.compile(loss='binary_crossentropy', optimizer='adam', metrics=['accuracy'])"
   ]
  },
  {
   "cell_type": "code",
   "execution_count": 38,
   "metadata": {
    "colab": {
     "base_uri": "https://localhost:8080/"
    },
    "id": "cWUzTQJTH5Jz",
    "outputId": "c8bfa6d9-d1a2-422d-be0a-771b2c99681e"
   },
   "outputs": [
    {
     "name": "stdout",
     "output_type": "stream",
     "text": [
      "Epoch 1/10\n",
      "287/287 [==============================] - 4s 10ms/step - loss: 0.5888 - accuracy: 0.7110\n",
      "Epoch 2/10\n",
      "287/287 [==============================] - 3s 9ms/step - loss: 0.3766 - accuracy: 0.8475\n",
      "Epoch 3/10\n",
      "287/287 [==============================] - 3s 9ms/step - loss: 0.2867 - accuracy: 0.8897\n",
      "Epoch 4/10\n",
      "287/287 [==============================] - 3s 9ms/step - loss: 0.2326 - accuracy: 0.9136\n",
      "Epoch 5/10\n",
      "287/287 [==============================] - 3s 9ms/step - loss: 0.1952 - accuracy: 0.9293\n",
      "Epoch 6/10\n",
      "287/287 [==============================] - 3s 11ms/step - loss: 0.1662 - accuracy: 0.9407\n",
      "Epoch 7/10\n",
      "287/287 [==============================] - 3s 10ms/step - loss: 0.1423 - accuracy: 0.9510\n",
      "Epoch 8/10\n",
      "287/287 [==============================] - 3s 10ms/step - loss: 0.1260 - accuracy: 0.9542\n",
      "Epoch 9/10\n",
      "287/287 [==============================] - 3s 9ms/step - loss: 0.1078 - accuracy: 0.9630\n",
      "Epoch 10/10\n",
      "287/287 [==============================] - 3s 10ms/step - loss: 0.0962 - accuracy: 0.9686\n"
     ]
    }
   ],
   "source": [
    "# Train the model\n",
    "history = modelnn.fit(X_train, y_train, epochs=10, batch_size=32)"
   ]
  },
  {
   "cell_type": "code",
   "execution_count": 40,
   "metadata": {},
   "outputs": [],
   "source": [
    "import matplotlib.pyplot as plt"
   ]
  },
  {
   "cell_type": "code",
   "execution_count": 41,
   "metadata": {
    "colab": {
     "base_uri": "https://localhost:8080/",
     "height": 472
    },
    "id": "RIqpldIMIdHe",
    "outputId": "9bc52408-7556-4a5d-8313-fc7391f46ef9"
   },
   "outputs": [
    {
     "data": {
      "image/png": "[encoded data removed]",
      "text/plain": [
       "<Figure size 640x480 with 1 Axes>"
      ]
     },
     "metadata": {},
     "output_type": "display_data"
    }
   ],
   "source": [
    "plt.plot(history.history['accuracy'])\n",
    "plt.title('model accuracy')\n",
    "plt.ylabel('accuracy')\n",
    "plt.xlabel('epoch')\n",
    "plt.legend(['train', 'val'], loc='upper left')\n",
    "plt.show()"
   ]
  },
  {
   "cell_type": "code",
   "execution_count": 45,
   "metadata": {
    "colab": {
     "base_uri": "https://localhost:8080/"
    },
    "id": "NjGYPaWtjZ32",
    "outputId": "53e2bf84-6464-42e1-a557-cd3f3e3b71da"
   },
   "outputs": [
    {
     "name": "stdout",
     "output_type": "stream",
     "text": [
      "Final accuracy: 0.9686240553855896\n"
     ]
    }
   ],
   "source": [
    "#final_NN_acc = history.history['accuracy'][-1]*100\n",
    "final_NN_acc = history.history['accuracy'][-1]\n",
    "\n",
    "\n",
    "print('Final accuracy:', final_NN_acc)"
   ]
  },
  {
   "cell_type": "code",
   "execution_count": 46,
   "metadata": {
    "id": "Q8U0e2hbHg9M"
   },
   "outputs": [],
   "source": [
    "eval(\"Neural-Network\",final_NN_acc)"
   ]
  },
  {
   "cell_type": "markdown",
   "metadata": {},
   "source": [
    "### EVAL"
   ]
  },
  {
   "cell_type": "code",
   "execution_count": 61,
   "metadata": {
    "colab": {
     "base_uri": "https://localhost:8080/",
     "height": 394
    },
    "id": "cpJh1-5YSQCi",
    "outputId": "3ff111e8-f35a-4e74-8460-4a4e31587d3d"
   },
   "outputs": [
    {
     "data": {
      "text/html": [
       "<div>\n",
       "<style scoped>\n",
       "    .dataframe tbody tr th:only-of-type {\n",
       "        vertical-align: middle;\n",
       "    }\n",
       "\n",
       "    .dataframe tbody tr th {\n",
       "        vertical-align: top;\n",
       "    }\n",
       "\n",
       "    .dataframe thead th {\n",
       "        text-align: right;\n",
       "    }\n",
       "</style>\n",
       "<table border=\"1\" class=\"dataframe\">\n",
       "  <thead>\n",
       "    <tr style=\"text-align: right;\">\n",
       "      <th></th>\n",
       "      <th>Model</th>\n",
       "      <th>Akurasi</th>\n",
       "    </tr>\n",
       "  </thead>\n",
       "  <tbody>\n",
       "    <tr>\n",
       "      <th>16</th>\n",
       "      <td>Neural-Network</td>\n",
       "      <td>96.86</td>\n",
       "    </tr>\n",
       "    <tr>\n",
       "      <th>17</th>\n",
       "      <td>Neural-Network</td>\n",
       "      <td>0.97</td>\n",
       "    </tr>\n",
       "    <tr>\n",
       "      <th>11</th>\n",
       "      <td>HistGradient Boosting Classifier</td>\n",
       "      <td>0.83</td>\n",
       "    </tr>\n",
       "    <tr>\n",
       "      <th>4</th>\n",
       "      <td>HistGradient Boosting Classifier</td>\n",
       "      <td>0.83</td>\n",
       "    </tr>\n",
       "    <tr>\n",
       "      <th>15</th>\n",
       "      <td>Multinomial NaiveBayes</td>\n",
       "      <td>0.82</td>\n",
       "    </tr>\n",
       "    <tr>\n",
       "      <th>0</th>\n",
       "      <td>Bagging Classifier</td>\n",
       "      <td>0.81</td>\n",
       "    </tr>\n",
       "    <tr>\n",
       "      <th>7</th>\n",
       "      <td>MLPClassifier</td>\n",
       "      <td>0.75</td>\n",
       "    </tr>\n",
       "    <tr>\n",
       "      <th>14</th>\n",
       "      <td>MLPClassifier</td>\n",
       "      <td>0.75</td>\n",
       "    </tr>\n",
       "    <tr>\n",
       "      <th>8</th>\n",
       "      <td>GaussianNB</td>\n",
       "      <td>0.64</td>\n",
       "    </tr>\n",
       "    <tr>\n",
       "      <th>1</th>\n",
       "      <td>GaussianNB</td>\n",
       "      <td>0.64</td>\n",
       "    </tr>\n",
       "    <tr>\n",
       "      <th>2</th>\n",
       "      <td>LinearDiscriminantAnalysis</td>\n",
       "      <td>0.63</td>\n",
       "    </tr>\n",
       "    <tr>\n",
       "      <th>9</th>\n",
       "      <td>LinearDiscriminantAnalysis</td>\n",
       "      <td>0.63</td>\n",
       "    </tr>\n",
       "    <tr>\n",
       "      <th>10</th>\n",
       "      <td>Quadratic Discriminant Analysis</td>\n",
       "      <td>0.62</td>\n",
       "    </tr>\n",
       "    <tr>\n",
       "      <th>3</th>\n",
       "      <td>Quadratic Discriminant Analysis</td>\n",
       "      <td>0.62</td>\n",
       "    </tr>\n",
       "    <tr>\n",
       "      <th>6</th>\n",
       "      <td>Label Propagation</td>\n",
       "      <td>0.53</td>\n",
       "    </tr>\n",
       "    <tr>\n",
       "      <th>5</th>\n",
       "      <td>Label Spreading</td>\n",
       "      <td>0.53</td>\n",
       "    </tr>\n",
       "    <tr>\n",
       "      <th>12</th>\n",
       "      <td>Label Spreading</td>\n",
       "      <td>0.53</td>\n",
       "    </tr>\n",
       "    <tr>\n",
       "      <th>13</th>\n",
       "      <td>Label Propagation</td>\n",
       "      <td>0.53</td>\n",
       "    </tr>\n",
       "  </tbody>\n",
       "</table>\n",
       "</div>"
      ],
      "text/plain": [
       "                               Model  Akurasi\n",
       "16                    Neural-Network    96.86\n",
       "17                    Neural-Network     0.97\n",
       "11  HistGradient Boosting Classifier     0.83\n",
       "4   HistGradient Boosting Classifier     0.83\n",
       "15            Multinomial NaiveBayes     0.82\n",
       "0                 Bagging Classifier     0.81\n",
       "7                      MLPClassifier     0.75\n",
       "14                     MLPClassifier     0.75\n",
       "8                         GaussianNB     0.64\n",
       "1                         GaussianNB     0.64\n",
       "2         LinearDiscriminantAnalysis     0.63\n",
       "9         LinearDiscriminantAnalysis     0.63\n",
       "10   Quadratic Discriminant Analysis     0.62\n",
       "3    Quadratic Discriminant Analysis     0.62\n",
       "6                  Label Propagation     0.53\n",
       "5                    Label Spreading     0.53\n",
       "12                   Label Spreading     0.53\n",
       "13                 Label Propagation     0.53"
      ]
     },
     "execution_count": 61,
     "metadata": {},
     "output_type": "execute_result"
    }
   ],
   "source": [
    "results2 = pd.DataFrame({ 'Model': MODEL,\n",
    "                         'Akurasi': TEST})\n",
    "\n",
    "results2.sort_values(by='Akurasi',ascending=False)"
   ]
  },
  {
   "cell_type": "code",
   "execution_count": 62,
   "metadata": {},
   "outputs": [
    {
     "data": {
      "text/html": [
       "<div>\n",
       "<style scoped>\n",
       "    .dataframe tbody tr th:only-of-type {\n",
       "        vertical-align: middle;\n",
       "    }\n",
       "\n",
       "    .dataframe tbody tr th {\n",
       "        vertical-align: top;\n",
       "    }\n",
       "\n",
       "    .dataframe thead th {\n",
       "        text-align: right;\n",
       "    }\n",
       "</style>\n",
       "<table border=\"1\" class=\"dataframe\">\n",
       "  <thead>\n",
       "    <tr style=\"text-align: right;\">\n",
       "      <th></th>\n",
       "      <th>Model</th>\n",
       "      <th>Akurasi</th>\n",
       "    </tr>\n",
       "  </thead>\n",
       "  <tbody>\n",
       "    <tr>\n",
       "      <th>16</th>\n",
       "      <td>Neural-Network</td>\n",
       "      <td>96.86</td>\n",
       "    </tr>\n",
       "    <tr>\n",
       "      <th>4</th>\n",
       "      <td>HistGradient Boosting Classifier</td>\n",
       "      <td>0.83</td>\n",
       "    </tr>\n",
       "    <tr>\n",
       "      <th>15</th>\n",
       "      <td>Multinomial NaiveBayes</td>\n",
       "      <td>0.82</td>\n",
       "    </tr>\n",
       "    <tr>\n",
       "      <th>0</th>\n",
       "      <td>Bagging Classifier</td>\n",
       "      <td>0.81</td>\n",
       "    </tr>\n",
       "    <tr>\n",
       "      <th>7</th>\n",
       "      <td>MLPClassifier</td>\n",
       "      <td>0.75</td>\n",
       "    </tr>\n",
       "    <tr>\n",
       "      <th>1</th>\n",
       "      <td>GaussianNB</td>\n",
       "      <td>0.64</td>\n",
       "    </tr>\n",
       "    <tr>\n",
       "      <th>2</th>\n",
       "      <td>LinearDiscriminantAnalysis</td>\n",
       "      <td>0.63</td>\n",
       "    </tr>\n",
       "    <tr>\n",
       "      <th>3</th>\n",
       "      <td>Quadratic Discriminant Analysis</td>\n",
       "      <td>0.62</td>\n",
       "    </tr>\n",
       "    <tr>\n",
       "      <th>5</th>\n",
       "      <td>Label Spreading</td>\n",
       "      <td>0.53</td>\n",
       "    </tr>\n",
       "    <tr>\n",
       "      <th>6</th>\n",
       "      <td>Label Propagation</td>\n",
       "      <td>0.53</td>\n",
       "    </tr>\n",
       "  </tbody>\n",
       "</table>\n",
       "</div>"
      ],
      "text/plain": [
       "                               Model  Akurasi\n",
       "16                    Neural-Network    96.86\n",
       "4   HistGradient Boosting Classifier     0.83\n",
       "15            Multinomial NaiveBayes     0.82\n",
       "0                 Bagging Classifier     0.81\n",
       "7                      MLPClassifier     0.75\n",
       "1                         GaussianNB     0.64\n",
       "2         LinearDiscriminantAnalysis     0.63\n",
       "3    Quadratic Discriminant Analysis     0.62\n",
       "5                    Label Spreading     0.53\n",
       "6                  Label Propagation     0.53"
      ]
     },
     "execution_count": 62,
     "metadata": {},
     "output_type": "execute_result"
    }
   ],
   "source": [
    "results2_unique = results2.drop_duplicates(subset=['Model'])\n",
    "results2_sorted = results2_unique.sort_values(by='Akurasi', ascending=False)\n",
    "results2_sorted"
   ]
  },
  {
   "cell_type": "code",
   "execution_count": 49,
   "metadata": {},
   "outputs": [],
   "source": [
    "from sklearn.naive_bayes import MultinomialNB\n",
    "from sklearn.svm import LinearSVC\n",
    "from sklearn.semi_supervised import LabelSpreading, LabelPropagation\n",
    "from sklearn.metrics import accuracy_score\n",
    "from sklearn.model_selection import KFold\n",
    "\n",
    "def evaluate_models(text_data, labels, n_splits=5):\n",
    "    kf = KFold(n_splits=n_splits, shuffle=True, random_state=123)\n",
    "\n",
    "    # Inisialisasi list untuk menyimpan akurasi\n",
    "    acc_multinomialnb = []\n",
    "    acc_linear_svc = []\n",
    "    acc_label_spread = []\n",
    "    acc_label_prop = []\n",
    "\n",
    "    # Melakukan K-Fold cross-validation\n",
    "    for train_index, test_index in kf.split(text_data):\n",
    "        X_train, X_test = text_data[train_index], text_data[test_index]\n",
    "        y_train, y_test = labels[train_index], labels[test_index]\n",
    "\n",
    "        # Model MultinomialNB\n",
    "        model_multinomialnb = MultinomialNB().fit(X_train, y_train)\n",
    "        pred_multinomialnb = model_multinomialnb.predict(X_test)\n",
    "        acc_multinomialnb.append(accuracy_score(pred_multinomialnb, y_test))\n",
    "\n",
    "        # Model LinearSVC\n",
    "        model_linear_svc = LinearSVC().fit(X_train, y_train)\n",
    "        pred_linear_svc = model_linear_svc.predict(X_test)\n",
    "        acc_linear_svc.append(accuracy_score(pred_linear_svc, y_test))\n",
    "\n",
    "        # Model LabelSpreading\n",
    "        model_label_spreading = LabelSpreading().fit(X_train.toarray(), y_train)\n",
    "        pred_label_spread = model_label_spreading.predict(X_test.toarray())\n",
    "        acc_label_spread.append(accuracy_score(pred_label_spread, y_test))\n",
    "\n",
    "        # Model LabelPropagation\n",
    "        model_label_propagation = LabelPropagation().fit(X_train.toarray(), y_train)\n",
    "        pred_label_prop = model_label_propagation.predict(X_test.toarray())\n",
    "        acc_label_prop.append(accuracy_score(pred_label_prop, y_test))\n",
    "\n",
    "    # Menampilkan hasil evaluasi\n",
    "    print(\"Multinomial NaiveBayes Accuracy:\", sum(acc_multinomialnb) / len(acc_multinomialnb))\n",
    "    print(\"SVC Linear Accuracy:\", sum(acc_linear_svc) / len(acc_linear_svc))\n",
    "    print(\"Label Spreading Accuracy:\", sum(acc_label_spread) / len(acc_label_spread))\n",
    "    print(\"Label Propagation Accuracy:\", sum(acc_label_prop) / len(acc_label_prop))\n"
   ]
  },
  {
   "cell_type": "code",
   "execution_count": 52,
   "metadata": {},
   "outputs": [
    {
     "name": "stdout",
     "output_type": "stream",
     "text": [
      "Multinomial NaiveBayes Accuracy: 0.8122619740353553\n",
      "SVC Linear Accuracy: 0.8165320975365198\n",
      "Label Spreading Accuracy: 0.5314912702366236\n",
      "Label Propagation Accuracy: 0.5314150216662842\n"
     ]
    }
   ],
   "source": [
    "# Memanggil fungsi evaluate_models dengan dataset teks dan label\n",
    "evaluate_models(tfidf_text, label, n_splits=5)"
   ]
  },
  {
   "cell_type": "code",
   "execution_count": 54,
   "metadata": {},
   "outputs": [
    {
     "ename": "NameError",
     "evalue": "name 'acc_multinomialnb' is not defined",
     "output_type": "error",
     "traceback": [
      "\u001b[1;31m---------------------------------------------------------------------------\u001b[0m",
      "\u001b[1;31mNameError\u001b[0m                                 Traceback (most recent call last)",
      "Cell \u001b[1;32mIn[54], line 1\u001b[0m\n\u001b[1;32m----> 1\u001b[0m \u001b[43macc_multinomialnb\u001b[49m\n",
      "\u001b[1;31mNameError\u001b[0m: name 'acc_multinomialnb' is not defined"
     ]
    }
   ],
   "source": [
    "acc_multinomialnb"
   ]
  },
  {
   "cell_type": "markdown",
   "metadata": {
    "id": "WkDIv4hgh4Ll",
    "jp-MarkdownHeadingCollapsed": true,
    "tags": []
   },
   "source": [
    "## [ARSIP] CNN [ARSIP] TERLALU LAMA"
   ]
  },
  {
   "cell_type": "code",
   "execution_count": null,
   "metadata": {
    "id": "cESkNAj-KPrm"
   },
   "outputs": [],
   "source": [
    "from tensorflow.keras.models import Sequential\n",
    "from tensorflow.keras.layers import Dense, Conv1D, MaxPooling1D, Flatten, Embedding"
   ]
  },
  {
   "cell_type": "code",
   "execution_count": null,
   "metadata": {
    "id": "1nXMuOEYh5UT"
   },
   "outputs": [],
   "source": [
    "# define CNN architecture\n",
    "model = Sequential()\n",
    "model.add(Embedding(input_dim=tfidf_text.shape[1], output_dim=128, input_length=X_train.shape[1]))\n",
    "model.add(Conv1D(filters=64, kernel_size=3, activation='relu'))\n",
    "model.add(MaxPooling1D(pool_size=2))\n",
    "model.add(Flatten())\n",
    "model.add(Dense(units=64, activation='relu'))\n",
    "model.add(Dense(units=1, activation='sigmoid'))\n",
    "\n",
    "# compile model\n",
    "model.compile(loss='binary_crossentropy', optimizer='adam', metrics=['accuracy'])"
   ]
  },
  {
   "cell_type": "code",
   "execution_count": null,
   "metadata": {
    "colab": {
     "base_uri": "https://localhost:8080/",
     "height": 376
    },
    "id": "mGGXTP1cKT6A",
    "outputId": "78ccdc61-de50-46e8-b279-c7f5379a5619"
   },
   "outputs": [
    {
     "name": "stdout",
     "output_type": "stream",
     "text": [
      "Epoch 1/5\n",
      " 53/144 [==========>...................] - ETA: 16:53 - loss: 0.9254 - accuracy: 0.5660"
     ]
    },
    {
     "ename": "KeyboardInterrupt",
     "evalue": "ignored",
     "output_type": "error",
     "traceback": [
      "\u001b[0;31m---------------------------------------------------------------------------\u001b[0m",
      "\u001b[0;31mKeyboardInterrupt\u001b[0m                         Traceback (most recent call last)",
      "\u001b[0;32m<ipython-input-77-d60e244fa443>\u001b[0m in \u001b[0;36m<cell line: 2>\u001b[0;34m()\u001b[0m\n\u001b[1;32m      1\u001b[0m \u001b[0;31m# train model\u001b[0m\u001b[0;34m\u001b[0m\u001b[0;34m\u001b[0m\u001b[0m\n\u001b[0;32m----> 2\u001b[0;31m \u001b[0mmodel\u001b[0m\u001b[0;34m.\u001b[0m\u001b[0mfit\u001b[0m\u001b[0;34m(\u001b[0m\u001b[0mX_train\u001b[0m\u001b[0;34m,\u001b[0m \u001b[0my_train\u001b[0m\u001b[0;34m,\u001b[0m \u001b[0mvalidation_data\u001b[0m\u001b[0;34m=\u001b[0m\u001b[0;34m(\u001b[0m\u001b[0mX_test\u001b[0m\u001b[0;34m,\u001b[0m \u001b[0my_test\u001b[0m\u001b[0;34m)\u001b[0m\u001b[0;34m,\u001b[0m \u001b[0mepochs\u001b[0m\u001b[0;34m=\u001b[0m\u001b[0;36m5\u001b[0m\u001b[0;34m,\u001b[0m \u001b[0mbatch_size\u001b[0m\u001b[0;34m=\u001b[0m\u001b[0;36m64\u001b[0m\u001b[0;34m)\u001b[0m\u001b[0;34m\u001b[0m\u001b[0;34m\u001b[0m\u001b[0m\n\u001b[0m",
      "\u001b[0;32m/usr/local/lib/python3.9/dist-packages/keras/utils/traceback_utils.py\u001b[0m in \u001b[0;36merror_handler\u001b[0;34m(*args, **kwargs)\u001b[0m\n\u001b[1;32m     63\u001b[0m         \u001b[0mfiltered_tb\u001b[0m \u001b[0;34m=\u001b[0m \u001b[0;32mNone\u001b[0m\u001b[0;34m\u001b[0m\u001b[0;34m\u001b[0m\u001b[0m\n\u001b[1;32m     64\u001b[0m         \u001b[0;32mtry\u001b[0m\u001b[0;34m:\u001b[0m\u001b[0;34m\u001b[0m\u001b[0;34m\u001b[0m\u001b[0m\n\u001b[0;32m---> 65\u001b[0;31m             \u001b[0;32mreturn\u001b[0m \u001b[0mfn\u001b[0m\u001b[0;34m(\u001b[0m\u001b[0;34m*\u001b[0m\u001b[0margs\u001b[0m\u001b[0;34m,\u001b[0m \u001b[0;34m**\u001b[0m\u001b[0mkwargs\u001b[0m\u001b[0;34m)\u001b[0m\u001b[0;34m\u001b[0m\u001b[0;34m\u001b[0m\u001b[0m\n\u001b[0m\u001b[1;32m     66\u001b[0m         \u001b[0;32mexcept\u001b[0m \u001b[0mException\u001b[0m \u001b[0;32mas\u001b[0m \u001b[0me\u001b[0m\u001b[0;34m:\u001b[0m\u001b[0;34m\u001b[0m\u001b[0;34m\u001b[0m\u001b[0m\n\u001b[1;32m     67\u001b[0m             \u001b[0mfiltered_tb\u001b[0m \u001b[0;34m=\u001b[0m \u001b[0m_process_traceback_frames\u001b[0m\u001b[0;34m(\u001b[0m\u001b[0me\u001b[0m\u001b[0;34m.\u001b[0m\u001b[0m__traceback__\u001b[0m\u001b[0;34m)\u001b[0m\u001b[0;34m\u001b[0m\u001b[0;34m\u001b[0m\u001b[0m\n",
      "\u001b[0;32m/usr/local/lib/python3.9/dist-packages/keras/engine/training.py\u001b[0m in \u001b[0;36mfit\u001b[0;34m(self, x, y, batch_size, epochs, verbose, callbacks, validation_split, validation_data, shuffle, class_weight, sample_weight, initial_epoch, steps_per_epoch, validation_steps, validation_batch_size, validation_freq, max_queue_size, workers, use_multiprocessing)\u001b[0m\n\u001b[1;32m   1683\u001b[0m                         ):\n\u001b[1;32m   1684\u001b[0m                             \u001b[0mcallbacks\u001b[0m\u001b[0;34m.\u001b[0m\u001b[0mon_train_batch_begin\u001b[0m\u001b[0;34m(\u001b[0m\u001b[0mstep\u001b[0m\u001b[0;34m)\u001b[0m\u001b[0;34m\u001b[0m\u001b[0;34m\u001b[0m\u001b[0m\n\u001b[0;32m-> 1685\u001b[0;31m                             \u001b[0mtmp_logs\u001b[0m \u001b[0;34m=\u001b[0m \u001b[0mself\u001b[0m\u001b[0;34m.\u001b[0m\u001b[0mtrain_function\u001b[0m\u001b[0;34m(\u001b[0m\u001b[0miterator\u001b[0m\u001b[0;34m)\u001b[0m\u001b[0;34m\u001b[0m\u001b[0;34m\u001b[0m\u001b[0m\n\u001b[0m\u001b[1;32m   1686\u001b[0m                             \u001b[0;32mif\u001b[0m \u001b[0mdata_handler\u001b[0m\u001b[0;34m.\u001b[0m\u001b[0mshould_sync\u001b[0m\u001b[0;34m:\u001b[0m\u001b[0;34m\u001b[0m\u001b[0;34m\u001b[0m\u001b[0m\n\u001b[1;32m   1687\u001b[0m                                 \u001b[0mcontext\u001b[0m\u001b[0;34m.\u001b[0m\u001b[0masync_wait\u001b[0m\u001b[0;34m(\u001b[0m\u001b[0;34m)\u001b[0m\u001b[0;34m\u001b[0m\u001b[0;34m\u001b[0m\u001b[0m\n",
      "\u001b[0;32m/usr/local/lib/python3.9/dist-packages/tensorflow/python/util/traceback_utils.py\u001b[0m in \u001b[0;36merror_handler\u001b[0;34m(*args, **kwargs)\u001b[0m\n\u001b[1;32m    148\u001b[0m     \u001b[0mfiltered_tb\u001b[0m \u001b[0;34m=\u001b[0m \u001b[0;32mNone\u001b[0m\u001b[0;34m\u001b[0m\u001b[0;34m\u001b[0m\u001b[0m\n\u001b[1;32m    149\u001b[0m     \u001b[0;32mtry\u001b[0m\u001b[0;34m:\u001b[0m\u001b[0;34m\u001b[0m\u001b[0;34m\u001b[0m\u001b[0m\n\u001b[0;32m--> 150\u001b[0;31m       \u001b[0;32mreturn\u001b[0m \u001b[0mfn\u001b[0m\u001b[0;34m(\u001b[0m\u001b[0;34m*\u001b[0m\u001b[0margs\u001b[0m\u001b[0;34m,\u001b[0m \u001b[0;34m**\u001b[0m\u001b[0mkwargs\u001b[0m\u001b[0;34m)\u001b[0m\u001b[0;34m\u001b[0m\u001b[0;34m\u001b[0m\u001b[0m\n\u001b[0m\u001b[1;32m    151\u001b[0m     \u001b[0;32mexcept\u001b[0m \u001b[0mException\u001b[0m \u001b[0;32mas\u001b[0m \u001b[0me\u001b[0m\u001b[0;34m:\u001b[0m\u001b[0;34m\u001b[0m\u001b[0;34m\u001b[0m\u001b[0m\n\u001b[1;32m    152\u001b[0m       \u001b[0mfiltered_tb\u001b[0m \u001b[0;34m=\u001b[0m \u001b[0m_process_traceback_frames\u001b[0m\u001b[0;34m(\u001b[0m\u001b[0me\u001b[0m\u001b[0;34m.\u001b[0m\u001b[0m__traceback__\u001b[0m\u001b[0;34m)\u001b[0m\u001b[0;34m\u001b[0m\u001b[0;34m\u001b[0m\u001b[0m\n",
      "\u001b[0;32m/usr/local/lib/python3.9/dist-packages/tensorflow/python/eager/polymorphic_function/polymorphic_function.py\u001b[0m in \u001b[0;36m__call__\u001b[0;34m(self, *args, **kwds)\u001b[0m\n\u001b[1;32m    892\u001b[0m \u001b[0;34m\u001b[0m\u001b[0m\n\u001b[1;32m    893\u001b[0m       \u001b[0;32mwith\u001b[0m \u001b[0mOptionalXlaContext\u001b[0m\u001b[0;34m(\u001b[0m\u001b[0mself\u001b[0m\u001b[0;34m.\u001b[0m\u001b[0m_jit_compile\u001b[0m\u001b[0;34m)\u001b[0m\u001b[0;34m:\u001b[0m\u001b[0;34m\u001b[0m\u001b[0;34m\u001b[0m\u001b[0m\n\u001b[0;32m--> 894\u001b[0;31m         \u001b[0mresult\u001b[0m \u001b[0;34m=\u001b[0m \u001b[0mself\u001b[0m\u001b[0;34m.\u001b[0m\u001b[0m_call\u001b[0m\u001b[0;34m(\u001b[0m\u001b[0;34m*\u001b[0m\u001b[0margs\u001b[0m\u001b[0;34m,\u001b[0m \u001b[0;34m**\u001b[0m\u001b[0mkwds\u001b[0m\u001b[0;34m)\u001b[0m\u001b[0;34m\u001b[0m\u001b[0;34m\u001b[0m\u001b[0m\n\u001b[0m\u001b[1;32m    895\u001b[0m \u001b[0;34m\u001b[0m\u001b[0m\n\u001b[1;32m    896\u001b[0m       \u001b[0mnew_tracing_count\u001b[0m \u001b[0;34m=\u001b[0m \u001b[0mself\u001b[0m\u001b[0;34m.\u001b[0m\u001b[0mexperimental_get_tracing_count\u001b[0m\u001b[0;34m(\u001b[0m\u001b[0;34m)\u001b[0m\u001b[0;34m\u001b[0m\u001b[0;34m\u001b[0m\u001b[0m\n",
      "\u001b[0;32m/usr/local/lib/python3.9/dist-packages/tensorflow/python/eager/polymorphic_function/polymorphic_function.py\u001b[0m in \u001b[0;36m_call\u001b[0;34m(self, *args, **kwds)\u001b[0m\n\u001b[1;32m    924\u001b[0m       \u001b[0;31m# In this case we have created variables on the first call, so we run the\u001b[0m\u001b[0;34m\u001b[0m\u001b[0;34m\u001b[0m\u001b[0m\n\u001b[1;32m    925\u001b[0m       \u001b[0;31m# defunned version which is guaranteed to never create variables.\u001b[0m\u001b[0;34m\u001b[0m\u001b[0;34m\u001b[0m\u001b[0m\n\u001b[0;32m--> 926\u001b[0;31m       \u001b[0;32mreturn\u001b[0m \u001b[0mself\u001b[0m\u001b[0;34m.\u001b[0m\u001b[0m_no_variable_creation_fn\u001b[0m\u001b[0;34m(\u001b[0m\u001b[0;34m*\u001b[0m\u001b[0margs\u001b[0m\u001b[0;34m,\u001b[0m \u001b[0;34m**\u001b[0m\u001b[0mkwds\u001b[0m\u001b[0;34m)\u001b[0m  \u001b[0;31m# pylint: disable=not-callable\u001b[0m\u001b[0;34m\u001b[0m\u001b[0;34m\u001b[0m\u001b[0m\n\u001b[0m\u001b[1;32m    927\u001b[0m     \u001b[0;32melif\u001b[0m \u001b[0mself\u001b[0m\u001b[0;34m.\u001b[0m\u001b[0m_variable_creation_fn\u001b[0m \u001b[0;32mis\u001b[0m \u001b[0;32mnot\u001b[0m \u001b[0;32mNone\u001b[0m\u001b[0;34m:\u001b[0m\u001b[0;34m\u001b[0m\u001b[0;34m\u001b[0m\u001b[0m\n\u001b[1;32m    928\u001b[0m       \u001b[0;31m# Release the lock early so that multiple threads can perform the call\u001b[0m\u001b[0;34m\u001b[0m\u001b[0;34m\u001b[0m\u001b[0m\n",
      "\u001b[0;32m/usr/local/lib/python3.9/dist-packages/tensorflow/python/eager/polymorphic_function/tracing_compiler.py\u001b[0m in \u001b[0;36m__call__\u001b[0;34m(self, *args, **kwargs)\u001b[0m\n\u001b[1;32m    141\u001b[0m       (concrete_function,\n\u001b[1;32m    142\u001b[0m        filtered_flat_args) = self._maybe_define_function(args, kwargs)\n\u001b[0;32m--> 143\u001b[0;31m     return concrete_function._call_flat(\n\u001b[0m\u001b[1;32m    144\u001b[0m         filtered_flat_args, captured_inputs=concrete_function.captured_inputs)  # pylint: disable=protected-access\n\u001b[1;32m    145\u001b[0m \u001b[0;34m\u001b[0m\u001b[0m\n",
      "\u001b[0;32m/usr/local/lib/python3.9/dist-packages/tensorflow/python/eager/polymorphic_function/monomorphic_function.py\u001b[0m in \u001b[0;36m_call_flat\u001b[0;34m(self, args, captured_inputs, cancellation_manager)\u001b[0m\n\u001b[1;32m   1755\u001b[0m         and executing_eagerly):\n\u001b[1;32m   1756\u001b[0m       \u001b[0;31m# No tape is watching; skip to running the function.\u001b[0m\u001b[0;34m\u001b[0m\u001b[0;34m\u001b[0m\u001b[0m\n\u001b[0;32m-> 1757\u001b[0;31m       return self._build_call_outputs(self._inference_function.call(\n\u001b[0m\u001b[1;32m   1758\u001b[0m           ctx, args, cancellation_manager=cancellation_manager))\n\u001b[1;32m   1759\u001b[0m     forward_backward = self._select_forward_and_backward_functions(\n",
      "\u001b[0;32m/usr/local/lib/python3.9/dist-packages/tensorflow/python/eager/polymorphic_function/monomorphic_function.py\u001b[0m in \u001b[0;36mcall\u001b[0;34m(self, ctx, args, cancellation_manager)\u001b[0m\n\u001b[1;32m    379\u001b[0m       \u001b[0;32mwith\u001b[0m \u001b[0m_InterpolateFunctionError\u001b[0m\u001b[0;34m(\u001b[0m\u001b[0mself\u001b[0m\u001b[0;34m)\u001b[0m\u001b[0;34m:\u001b[0m\u001b[0;34m\u001b[0m\u001b[0;34m\u001b[0m\u001b[0m\n\u001b[1;32m    380\u001b[0m         \u001b[0;32mif\u001b[0m \u001b[0mcancellation_manager\u001b[0m \u001b[0;32mis\u001b[0m \u001b[0;32mNone\u001b[0m\u001b[0;34m:\u001b[0m\u001b[0;34m\u001b[0m\u001b[0;34m\u001b[0m\u001b[0m\n\u001b[0;32m--> 381\u001b[0;31m           outputs = execute.execute(\n\u001b[0m\u001b[1;32m    382\u001b[0m               \u001b[0mstr\u001b[0m\u001b[0;34m(\u001b[0m\u001b[0mself\u001b[0m\u001b[0;34m.\u001b[0m\u001b[0msignature\u001b[0m\u001b[0;34m.\u001b[0m\u001b[0mname\u001b[0m\u001b[0;34m)\u001b[0m\u001b[0;34m,\u001b[0m\u001b[0;34m\u001b[0m\u001b[0;34m\u001b[0m\u001b[0m\n\u001b[1;32m    383\u001b[0m               \u001b[0mnum_outputs\u001b[0m\u001b[0;34m=\u001b[0m\u001b[0mself\u001b[0m\u001b[0;34m.\u001b[0m\u001b[0m_num_outputs\u001b[0m\u001b[0;34m,\u001b[0m\u001b[0;34m\u001b[0m\u001b[0;34m\u001b[0m\u001b[0m\n",
      "\u001b[0;32m/usr/local/lib/python3.9/dist-packages/tensorflow/python/eager/execute.py\u001b[0m in \u001b[0;36mquick_execute\u001b[0;34m(op_name, num_outputs, inputs, attrs, ctx, name)\u001b[0m\n\u001b[1;32m     50\u001b[0m   \u001b[0;32mtry\u001b[0m\u001b[0;34m:\u001b[0m\u001b[0;34m\u001b[0m\u001b[0;34m\u001b[0m\u001b[0m\n\u001b[1;32m     51\u001b[0m     \u001b[0mctx\u001b[0m\u001b[0;34m.\u001b[0m\u001b[0mensure_initialized\u001b[0m\u001b[0;34m(\u001b[0m\u001b[0;34m)\u001b[0m\u001b[0;34m\u001b[0m\u001b[0;34m\u001b[0m\u001b[0m\n\u001b[0;32m---> 52\u001b[0;31m     tensors = pywrap_tfe.TFE_Py_Execute(ctx._handle, device_name, op_name,\n\u001b[0m\u001b[1;32m     53\u001b[0m                                         inputs, attrs, num_outputs)\n\u001b[1;32m     54\u001b[0m   \u001b[0;32mexcept\u001b[0m \u001b[0mcore\u001b[0m\u001b[0;34m.\u001b[0m\u001b[0m_NotOkStatusException\u001b[0m \u001b[0;32mas\u001b[0m \u001b[0me\u001b[0m\u001b[0;34m:\u001b[0m\u001b[0;34m\u001b[0m\u001b[0;34m\u001b[0m\u001b[0m\n",
      "\u001b[0;31mKeyboardInterrupt\u001b[0m: "
     ]
    }
   ],
   "source": [
    "# train model\n",
    "model.fit(X_train, y_train, validation_data=(X_test, y_test), epochs=5, batch_size=64)"
   ]
  },
  {
   "cell_type": "code",
   "execution_count": null,
   "metadata": {
    "id": "coqCXdbqLWhO"
   },
   "outputs": [],
   "source": [
    "# evaluate model\n",
    "loss, accuracy = model.evaluate(X_test, y_test, verbose=0)\n",
    "print(f'Test accuracy: {accuracy}')"
   ]
  },
  {
   "cell_type": "code",
   "execution_count": null,
   "metadata": {
    "id": "8fOsfgXyLsl8"
   },
   "outputs": [],
   "source": [
    "final_CNN_acc = accuracy"
   ]
  },
  {
   "cell_type": "code",
   "execution_count": null,
   "metadata": {
    "id": "tv9ZY5eULozH"
   },
   "outputs": [],
   "source": [
    "eval(\"Convulution Neural-Network\",final_CNN_acc)"
   ]
  },
  {
   "cell_type": "code",
   "execution_count": null,
   "metadata": {
    "id": "oo0qsIUNlmm8"
   },
   "outputs": [],
   "source": []
  },
  {
   "cell_type": "code",
   "execution_count": null,
   "metadata": {
    "id": "iBMcyMDvLzSY"
   },
   "outputs": [],
   "source": [
    "import joblib\n",
    "\n",
    "# save model to joblib file\n",
    "joblib.dump(model, 'lstm_model.joblib')\n"
   ]
  },
  {
   "cell_type": "markdown",
   "metadata": {
    "id": "s0DoAbCqMEFb"
   },
   "source": [
    "### [ARSIP] LSTM KELAMAN"
   ]
  },
  {
   "cell_type": "code",
   "execution_count": null,
   "metadata": {
    "id": "vykSUT3jMbH4"
   },
   "outputs": [],
   "source": [
    "from tensorflow.keras.models import Sequential\n",
    "from tensorflow.keras.layers import Dense, LSTM, Embedding"
   ]
  },
  {
   "cell_type": "code",
   "execution_count": null,
   "metadata": {
    "id": "goGEGLUxMW6R"
   },
   "outputs": [],
   "source": [
    "# define LSTM architecture\n",
    "model = Sequential()\n",
    "model.add(Embedding(input_dim=tfidf_text.shape[1], output_dim=128, input_length=X_train.shape[1]))\n",
    "model.add(LSTM(units=64, dropout=0.2, recurrent_dropout=0.2))\n",
    "model.add(Dense(units=1, activation='sigmoid'))\n",
    "# compile model\n",
    "model.compile(loss='binary_crossentropy', optimizer='adam', metrics=['accuracy'])\n"
   ]
  },
  {
   "cell_type": "code",
   "execution_count": null,
   "metadata": {
    "colab": {
     "base_uri": "https://localhost:8080/"
    },
    "id": "Y0D9wCRdMgpd",
    "outputId": "82b3cf33-039b-4bc6-c332-98e93b168511"
   },
   "outputs": [
    {
     "name": "stdout",
     "output_type": "stream",
     "text": [
      "Epoch 1/5\n"
     ]
    }
   ],
   "source": [
    "# train model\n",
    "model.fit(X_train, y_train, validation_data=(X_test, y_test), epochs=5, batch_size=64)\n"
   ]
  },
  {
   "cell_type": "code",
   "execution_count": null,
   "metadata": {
    "id": "jH_P-5YAMmHX"
   },
   "outputs": [],
   "source": [
    "# evaluate model\n",
    "loss, accuracy = model.evaluate(X_test, y_test, verbose=0)\n",
    "print(f'Test accuracy: {accuracy}')"
   ]
  },
  {
   "cell_type": "code",
   "execution_count": null,
   "metadata": {
    "id": "P_eaoKC1L-cK"
   },
   "outputs": [],
   "source": [
    "import joblib\n",
    "\n",
    "# save model to joblib file\n",
    "joblib.dump(model, 'lstm_model.joblib')\n"
   ]
  },
  {
   "cell_type": "markdown",
   "metadata": {
    "id": "9jvW8BscLziS"
   },
   "source": [
    "### Perbandingan Semua Metode"
   ]
  },
  {
   "cell_type": "code",
   "execution_count": null,
   "metadata": {
    "id": "T6HP1fKjL2NL"
   },
   "outputs": [],
   "source": [
    "results2 = pd.DataFrame({ 'Model': MODEL,\n",
    "                         'Akurasi': TEST})\n",
    "\n",
    "results2.sort_values(by='Akurasi',ascending=False)"
   ]
  },
  {
   "cell_type": "markdown",
   "metadata": {
    "id": "wfY3BPFxeVRH"
   },
   "source": [
    "## COSINE"
   ]
  },
  {
   "cell_type": "code",
   "execution_count": null,
   "metadata": {
    "id": "JfnH6nsReglx"
   },
   "outputs": [],
   "source": [
    "from sklearn.metrics.pairwise import cosine_similarity"
   ]
  },
  {
   "cell_type": "code",
   "execution_count": null,
   "metadata": {
    "colab": {
     "base_uri": "https://localhost:8080/"
    },
    "id": "OZF-ukkfeWSV",
    "outputId": "4adc8f9d-a350-4644-810c-acfaa5040990"
   },
   "outputs": [
    {
     "name": "stdout",
     "output_type": "stream",
     "text": [
      "[[1.         0.         0.01585464 ... 0.         0.         0.05659841]\n",
      " [0.         1.         0.         ... 0.         0.         0.021161  ]\n",
      " [0.01585464 0.         1.         ... 0.         0.04515585 0.094554  ]\n",
      " ...\n",
      " [0.         0.         0.         ... 1.         0.         0.        ]\n",
      " [0.         0.         0.04515585 ... 0.         1.         0.        ]\n",
      " [0.05659841 0.021161   0.094554   ... 0.         0.         1.        ]]\n"
     ]
    }
   ],
   "source": [
    "# Compute the TF-IDF vectors for the dataset\n",
    "tfidf_matrix = tfidf_vectorizer.fit_transform(df['Tweet'])\n",
    "\n",
    "# Calculate the cosine similarity matrix between the TF-IDF vectors\n",
    "cosine_sim_matrix = cosine_similarity(tfidf_matrix)\n",
    "\n",
    "# Print the cosine similarity matrix\n",
    "print(cosine_sim_matrix)"
   ]
  },
  {
   "cell_type": "code",
   "execution_count": null,
   "metadata": {
    "id": "CoHkNmTgehhp"
   },
   "outputs": [],
   "source": []
  }
 ],
 "metadata": {
  "colab": {
   "collapsed_sections": [
    "nC6JkUsUOVCH",
    "T-WjNX_dmDs2",
    "OfNRikuUSMfz",
    "WkDIv4hgh4Ll",
    "wfY3BPFxeVRH"
   ],
   "provenance": []
  },
  "kernelspec": {
   "display_name": "Python 3 (ipykernel)",
   "language": "python",
   "name": "python3"
  },
  "language_info": {
   "codemirror_mode": {
    "name": "ipython",
    "version": 3
   },
   "file_extension": ".py",
   "mimetype": "text/x-python",
   "name": "python",
   "nbconvert_exporter": "python",
   "pygments_lexer": "ipython3",
   "version": "3.10.9"
  }
 },
 "nbformat": 4,
 "nbformat_minor": 4
}
